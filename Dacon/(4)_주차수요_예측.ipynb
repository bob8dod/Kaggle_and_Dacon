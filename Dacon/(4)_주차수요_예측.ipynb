{
  "nbformat": 4,
  "nbformat_minor": 0,
  "metadata": {
    "colab": {
      "name": "(4)_주차수요 예측.ipynb",
      "provenance": [],
      "collapsed_sections": [
        "2kbfC_f6bHVp"
      ],
      "authorship_tag": "ABX9TyNCsH21Ld5xa+R6RH4Pl+qV",
      "include_colab_link": true
    },
    "kernelspec": {
      "name": "python3",
      "display_name": "Python 3"
    },
    "language_info": {
      "name": "python"
    }
  },
  "cells": [
    {
      "cell_type": "markdown",
      "metadata": {
        "id": "view-in-github",
        "colab_type": "text"
      },
      "source": [
        "<a href=\"https://colab.research.google.com/github/bob8dod/Kaggle_and_Dacon/blob/main/Dacon/(4)_%EC%A3%BC%EC%B0%A8%EC%88%98%EC%9A%94_%EC%98%88%EC%B8%A1.ipynb\" target=\"_parent\"><img src=\"https://colab.research.google.com/assets/colab-badge.svg\" alt=\"Open In Colab\"/></a>"
      ]
    },
    {
      "cell_type": "code",
      "metadata": {
        "id": "DiJ3LDGjOfyt"
      },
      "source": [
        "import pandas as pd\n",
        "import numpy as np\n",
        "import matplotlib.pyplot as plt\n",
        "%matplotlib inline"
      ],
      "execution_count": 4,
      "outputs": []
    },
    {
      "cell_type": "code",
      "metadata": {
        "id": "SN3aVlGEOvYZ"
      },
      "source": [
        "train = pd.read_csv('/content/train.csv')\n",
        "test = pd.read_csv('/content/test.csv')\n",
        "age_gender_info = pd.read_csv('/content/age_gender_info.csv')"
      ],
      "execution_count": 9,
      "outputs": []
    },
    {
      "cell_type": "code",
      "metadata": {
        "colab": {
          "base_uri": "https://localhost:8080/"
        },
        "id": "PNARnWxPPEW6",
        "outputId": "a5d7267d-8d44-4088-d2e4-ae3fd1f434ca"
      },
      "source": [
        "print(train.shape)\n",
        "print(test.shape)"
      ],
      "execution_count": 10,
      "outputs": [
        {
          "output_type": "stream",
          "name": "stdout",
          "text": [
            "(2952, 15)\n",
            "(1022, 14)\n"
          ]
        }
      ]
    },
    {
      "cell_type": "code",
      "metadata": {
        "colab": {
          "base_uri": "https://localhost:8080/"
        },
        "id": "uFys2cXvPHwI",
        "outputId": "e46bf0e2-b71b-4a33-c14c-87419b59e556"
      },
      "source": [
        "train.info(), test.info()"
      ],
      "execution_count": 14,
      "outputs": [
        {
          "output_type": "stream",
          "name": "stdout",
          "text": [
            "<class 'pandas.core.frame.DataFrame'>\n",
            "RangeIndex: 2952 entries, 0 to 2951\n",
            "Data columns (total 15 columns):\n",
            " #   Column                        Non-Null Count  Dtype  \n",
            "---  ------                        --------------  -----  \n",
            " 0   단지코드                          2952 non-null   object \n",
            " 1   총세대수                          2952 non-null   int64  \n",
            " 2   임대건물구분                        2952 non-null   object \n",
            " 3   지역                            2952 non-null   object \n",
            " 4   공급유형                          2952 non-null   object \n",
            " 5   전용면적                          2952 non-null   float64\n",
            " 6   전용면적별세대수                      2952 non-null   int64  \n",
            " 7   공가수                           2952 non-null   float64\n",
            " 8   자격유형                          2952 non-null   object \n",
            " 9   임대보증금                         2383 non-null   object \n",
            " 10  임대료                           2383 non-null   object \n",
            " 11  도보 10분거리 내 지하철역 수(환승노선 수 반영)  2741 non-null   float64\n",
            " 12  도보 10분거리 내 버스정류장 수            2948 non-null   float64\n",
            " 13  단지내주차면수                       2952 non-null   float64\n",
            " 14  등록차량수                         2952 non-null   float64\n",
            "dtypes: float64(6), int64(2), object(7)\n",
            "memory usage: 346.1+ KB\n",
            "<class 'pandas.core.frame.DataFrame'>\n",
            "RangeIndex: 1022 entries, 0 to 1021\n",
            "Data columns (total 14 columns):\n",
            " #   Column                        Non-Null Count  Dtype  \n",
            "---  ------                        --------------  -----  \n",
            " 0   단지코드                          1022 non-null   object \n",
            " 1   총세대수                          1022 non-null   int64  \n",
            " 2   임대건물구분                        1022 non-null   object \n",
            " 3   지역                            1022 non-null   object \n",
            " 4   공급유형                          1022 non-null   object \n",
            " 5   전용면적                          1022 non-null   float64\n",
            " 6   전용면적별세대수                      1022 non-null   int64  \n",
            " 7   공가수                           1022 non-null   float64\n",
            " 8   자격유형                          1020 non-null   object \n",
            " 9   임대보증금                         842 non-null    object \n",
            " 10  임대료                           842 non-null    object \n",
            " 11  도보 10분거리 내 지하철역 수(환승노선 수 반영)  980 non-null    float64\n",
            " 12  도보 10분거리 내 버스정류장 수            1022 non-null   float64\n",
            " 13  단지내주차면수                       1022 non-null   float64\n",
            "dtypes: float64(5), int64(2), object(7)\n",
            "memory usage: 111.9+ KB\n"
          ]
        },
        {
          "output_type": "execute_result",
          "data": {
            "text/plain": [
              "(None, None)"
            ]
          },
          "metadata": {},
          "execution_count": 14
        }
      ]
    },
    {
      "cell_type": "markdown",
      "metadata": {
        "id": "6KjtK3i3TiwU"
      },
      "source": [
        "**train 데이터 (NULL):**  임대보증금, 임대료, 도보 10분거리 내 지하철역 수(환승노선 수 반영), 도보 10분거리 내 버스정류장 수  \n",
        "**test 데이터 (NULL):** 자격유형, 임대보증금, 임대료, 도보 10분거리 내 지하철역 수(환승노선 수 반영)"
      ]
    },
    {
      "cell_type": "markdown",
      "metadata": {
        "id": "2kbfC_f6bHVp"
      },
      "source": [
        "## Data Analysis and Feature Engineering"
      ]
    },
    {
      "cell_type": "markdown",
      "metadata": {
        "id": "SiE14pcaXn33"
      },
      "source": [
        "1. 임대보증금, 임대료"
      ]
    },
    {
      "cell_type": "code",
      "metadata": {
        "id": "e2nL0eNZUFzY"
      },
      "source": [
        "# 임대보증금과 임대료는 '-'을 null로 바꾼 후 float로 타입 변경\n",
        "train.loc[train.임대보증금=='-', '임대보증금'] = np.nan\n",
        "test.loc[test.임대보증금=='-', '임대보증금'] = np.nan\n",
        "train['임대보증금'] = train['임대보증금'].astype(float)\n",
        "test['임대보증금'] = test['임대보증금'].astype(float)\n",
        "\n",
        "train.loc[train.임대료=='-', '임대료'] = np.nan\n",
        "test.loc[test.임대료=='-', '임대료'] = np.nan\n",
        "train['임대료'] = train['임대료'].astype(float)\n",
        "test['임대료'] = test['임대료'].astype(float)"
      ],
      "execution_count": 24,
      "outputs": []
    },
    {
      "cell_type": "code",
      "metadata": {
        "id": "DD_4MLHwU4M6"
      },
      "source": [
        "# 임대보증금과 임대료가 NULL인 경우는 0으로 대체\n",
        "train[['임대보증금', '임대료']] = train[['임대보증금', '임대료']].fillna(0)\n",
        "test[['임대보증금', '임대료']] = test[['임대보증금', '임대료']].fillna(0)"
      ],
      "execution_count": 31,
      "outputs": []
    },
    {
      "cell_type": "markdown",
      "metadata": {
        "id": "Mb5af0WzXqki"
      },
      "source": [
        "2. 도보 10분 거리 내 지하철 역수, 버스정류장 수"
      ]
    },
    {
      "cell_type": "code",
      "metadata": {
        "id": "KnsA3rPIWhuB"
      },
      "source": [
        "# 이또한 0으로 대체\n",
        "cols = ['도보 10분거리 내 지하철역 수(환승노선 수 반영)', '도보 10분거리 내 버스정류장 수']\n",
        "train[cols] = train[cols].fillna(0)\n",
        "test[cols] = test[cols].fillna(0)"
      ],
      "execution_count": 32,
      "outputs": []
    },
    {
      "cell_type": "markdown",
      "metadata": {
        "id": "ZGJ8mt-abCGg"
      },
      "source": [
        "3. 자격유형"
      ]
    },
    {
      "cell_type": "code",
      "metadata": {
        "colab": {
          "base_uri": "https://localhost:8080/",
          "height": 549
        },
        "id": "QIGdFnqSa_09",
        "outputId": "0fb1b36b-2281-4d01-8530-8f77a303cd98"
      },
      "source": [
        "test[test.자격유형.isnull()]"
      ],
      "execution_count": 36,
      "outputs": [
        {
          "output_type": "execute_result",
          "data": {
            "text/html": [
              "<div>\n",
              "<style scoped>\n",
              "    .dataframe tbody tr th:only-of-type {\n",
              "        vertical-align: middle;\n",
              "    }\n",
              "\n",
              "    .dataframe tbody tr th {\n",
              "        vertical-align: top;\n",
              "    }\n",
              "\n",
              "    .dataframe thead th {\n",
              "        text-align: right;\n",
              "    }\n",
              "</style>\n",
              "<table border=\"1\" class=\"dataframe\">\n",
              "  <thead>\n",
              "    <tr style=\"text-align: right;\">\n",
              "      <th></th>\n",
              "      <th>단지코드</th>\n",
              "      <th>총세대수</th>\n",
              "      <th>임대건물구분</th>\n",
              "      <th>지역</th>\n",
              "      <th>공급유형</th>\n",
              "      <th>전용면적</th>\n",
              "      <th>전용면적별세대수</th>\n",
              "      <th>공가수</th>\n",
              "      <th>자격유형</th>\n",
              "      <th>임대보증금</th>\n",
              "      <th>임대료</th>\n",
              "      <th>도보 10분거리 내 지하철역 수(환승노선 수 반영)</th>\n",
              "      <th>도보 10분거리 내 버스정류장 수</th>\n",
              "      <th>단지내주차면수</th>\n",
              "    </tr>\n",
              "  </thead>\n",
              "  <tbody>\n",
              "    <tr>\n",
              "      <th>196</th>\n",
              "      <td>C2411</td>\n",
              "      <td>962</td>\n",
              "      <td>아파트</td>\n",
              "      <td>경상남도</td>\n",
              "      <td>국민임대</td>\n",
              "      <td>46.90</td>\n",
              "      <td>240</td>\n",
              "      <td>25.0</td>\n",
              "      <td>NaN</td>\n",
              "      <td>71950000.0</td>\n",
              "      <td>37470.0</td>\n",
              "      <td>0.0</td>\n",
              "      <td>2.0</td>\n",
              "      <td>840.0</td>\n",
              "    </tr>\n",
              "    <tr>\n",
              "      <th>258</th>\n",
              "      <td>C2253</td>\n",
              "      <td>1161</td>\n",
              "      <td>아파트</td>\n",
              "      <td>강원도</td>\n",
              "      <td>영구임대</td>\n",
              "      <td>26.37</td>\n",
              "      <td>745</td>\n",
              "      <td>0.0</td>\n",
              "      <td>NaN</td>\n",
              "      <td>2249000.0</td>\n",
              "      <td>44770.0</td>\n",
              "      <td>0.0</td>\n",
              "      <td>2.0</td>\n",
              "      <td>173.0</td>\n",
              "    </tr>\n",
              "  </tbody>\n",
              "</table>\n",
              "</div>"
            ],
            "text/plain": [
              "      단지코드  총세대수  ... 도보 10분거리 내 버스정류장 수 단지내주차면수\n",
              "196  C2411   962  ...                2.0   840.0\n",
              "258  C2253  1161  ...                2.0   173.0\n",
              "\n",
              "[2 rows x 14 columns]"
            ]
          },
          "metadata": {},
          "execution_count": 36
        }
      ]
    },
    {
      "cell_type": "markdown",
      "metadata": {
        "id": "wPcoFDdhbqKU"
      },
      "source": [
        "C2411의 경우 'A'  \n",
        "C2253의 경우 'C'  \n",
        "가 최빈 값"
      ]
    },
    {
      "cell_type": "code",
      "metadata": {
        "id": "50RVE9Z0bcjC"
      },
      "source": [
        "test.loc[test.단지코드.isin(['C2411']) & test.자격유형.isnull(), '자격유형'] = 'A'\n",
        "test.loc[test.단지코드.isin(['C2253']) & test.자격유형.isnull(), '자격유형'] = 'C'"
      ],
      "execution_count": 37,
      "outputs": []
    },
    {
      "cell_type": "markdown",
      "metadata": {
        "id": "NwCJmt9OcE-P"
      },
      "source": [
        "추가적인 분석 전 중복 제거"
      ]
    },
    {
      "cell_type": "code",
      "metadata": {
        "id": "44pFDT_ob67D"
      },
      "source": [
        "train = train.drop_duplicates()\n",
        "test = test.drop_duplicates()"
      ],
      "execution_count": 38,
      "outputs": []
    },
    {
      "cell_type": "code",
      "metadata": {
        "colab": {
          "base_uri": "https://localhost:8080/",
          "height": 559
        },
        "id": "d5ChTqb4cG4g",
        "outputId": "af5e5426-b3e9-4606-b5e6-63f4fbec206e"
      },
      "source": [
        "train.groupby(['단지코드']).nunique(dropna=False)"
      ],
      "execution_count": 39,
      "outputs": [
        {
          "output_type": "execute_result",
          "data": {
            "text/html": [
              "<div>\n",
              "<style scoped>\n",
              "    .dataframe tbody tr th:only-of-type {\n",
              "        vertical-align: middle;\n",
              "    }\n",
              "\n",
              "    .dataframe tbody tr th {\n",
              "        vertical-align: top;\n",
              "    }\n",
              "\n",
              "    .dataframe thead th {\n",
              "        text-align: right;\n",
              "    }\n",
              "</style>\n",
              "<table border=\"1\" class=\"dataframe\">\n",
              "  <thead>\n",
              "    <tr style=\"text-align: right;\">\n",
              "      <th></th>\n",
              "      <th>총세대수</th>\n",
              "      <th>임대건물구분</th>\n",
              "      <th>지역</th>\n",
              "      <th>공급유형</th>\n",
              "      <th>전용면적</th>\n",
              "      <th>전용면적별세대수</th>\n",
              "      <th>공가수</th>\n",
              "      <th>자격유형</th>\n",
              "      <th>임대보증금</th>\n",
              "      <th>임대료</th>\n",
              "      <th>도보 10분거리 내 지하철역 수(환승노선 수 반영)</th>\n",
              "      <th>도보 10분거리 내 버스정류장 수</th>\n",
              "      <th>단지내주차면수</th>\n",
              "      <th>등록차량수</th>\n",
              "    </tr>\n",
              "    <tr>\n",
              "      <th>단지코드</th>\n",
              "      <th></th>\n",
              "      <th></th>\n",
              "      <th></th>\n",
              "      <th></th>\n",
              "      <th></th>\n",
              "      <th></th>\n",
              "      <th></th>\n",
              "      <th></th>\n",
              "      <th></th>\n",
              "      <th></th>\n",
              "      <th></th>\n",
              "      <th></th>\n",
              "      <th></th>\n",
              "      <th></th>\n",
              "    </tr>\n",
              "  </thead>\n",
              "  <tbody>\n",
              "    <tr>\n",
              "      <th>C1000</th>\n",
              "      <td>1</td>\n",
              "      <td>1</td>\n",
              "      <td>1</td>\n",
              "      <td>1</td>\n",
              "      <td>5</td>\n",
              "      <td>6</td>\n",
              "      <td>1</td>\n",
              "      <td>1</td>\n",
              "      <td>3</td>\n",
              "      <td>3</td>\n",
              "      <td>1</td>\n",
              "      <td>1</td>\n",
              "      <td>1</td>\n",
              "      <td>1</td>\n",
              "    </tr>\n",
              "    <tr>\n",
              "      <th>C1004</th>\n",
              "      <td>1</td>\n",
              "      <td>2</td>\n",
              "      <td>1</td>\n",
              "      <td>2</td>\n",
              "      <td>15</td>\n",
              "      <td>3</td>\n",
              "      <td>1</td>\n",
              "      <td>2</td>\n",
              "      <td>3</td>\n",
              "      <td>3</td>\n",
              "      <td>1</td>\n",
              "      <td>1</td>\n",
              "      <td>1</td>\n",
              "      <td>1</td>\n",
              "    </tr>\n",
              "    <tr>\n",
              "      <th>C1005</th>\n",
              "      <td>1</td>\n",
              "      <td>1</td>\n",
              "      <td>1</td>\n",
              "      <td>1</td>\n",
              "      <td>3</td>\n",
              "      <td>3</td>\n",
              "      <td>1</td>\n",
              "      <td>1</td>\n",
              "      <td>3</td>\n",
              "      <td>3</td>\n",
              "      <td>1</td>\n",
              "      <td>1</td>\n",
              "      <td>1</td>\n",
              "      <td>1</td>\n",
              "    </tr>\n",
              "    <tr>\n",
              "      <th>C1013</th>\n",
              "      <td>1</td>\n",
              "      <td>1</td>\n",
              "      <td>1</td>\n",
              "      <td>1</td>\n",
              "      <td>4</td>\n",
              "      <td>5</td>\n",
              "      <td>1</td>\n",
              "      <td>1</td>\n",
              "      <td>3</td>\n",
              "      <td>3</td>\n",
              "      <td>1</td>\n",
              "      <td>1</td>\n",
              "      <td>1</td>\n",
              "      <td>1</td>\n",
              "    </tr>\n",
              "    <tr>\n",
              "      <th>C1014</th>\n",
              "      <td>1</td>\n",
              "      <td>1</td>\n",
              "      <td>1</td>\n",
              "      <td>1</td>\n",
              "      <td>6</td>\n",
              "      <td>7</td>\n",
              "      <td>1</td>\n",
              "      <td>1</td>\n",
              "      <td>4</td>\n",
              "      <td>4</td>\n",
              "      <td>1</td>\n",
              "      <td>1</td>\n",
              "      <td>1</td>\n",
              "      <td>1</td>\n",
              "    </tr>\n",
              "    <tr>\n",
              "      <th>...</th>\n",
              "      <td>...</td>\n",
              "      <td>...</td>\n",
              "      <td>...</td>\n",
              "      <td>...</td>\n",
              "      <td>...</td>\n",
              "      <td>...</td>\n",
              "      <td>...</td>\n",
              "      <td>...</td>\n",
              "      <td>...</td>\n",
              "      <td>...</td>\n",
              "      <td>...</td>\n",
              "      <td>...</td>\n",
              "      <td>...</td>\n",
              "      <td>...</td>\n",
              "    </tr>\n",
              "    <tr>\n",
              "      <th>C2663</th>\n",
              "      <td>1</td>\n",
              "      <td>1</td>\n",
              "      <td>1</td>\n",
              "      <td>1</td>\n",
              "      <td>5</td>\n",
              "      <td>6</td>\n",
              "      <td>1</td>\n",
              "      <td>1</td>\n",
              "      <td>4</td>\n",
              "      <td>4</td>\n",
              "      <td>1</td>\n",
              "      <td>1</td>\n",
              "      <td>1</td>\n",
              "      <td>1</td>\n",
              "    </tr>\n",
              "    <tr>\n",
              "      <th>C2666</th>\n",
              "      <td>1</td>\n",
              "      <td>1</td>\n",
              "      <td>1</td>\n",
              "      <td>1</td>\n",
              "      <td>4</td>\n",
              "      <td>6</td>\n",
              "      <td>1</td>\n",
              "      <td>1</td>\n",
              "      <td>2</td>\n",
              "      <td>2</td>\n",
              "      <td>1</td>\n",
              "      <td>1</td>\n",
              "      <td>1</td>\n",
              "      <td>1</td>\n",
              "    </tr>\n",
              "    <tr>\n",
              "      <th>C2670</th>\n",
              "      <td>1</td>\n",
              "      <td>1</td>\n",
              "      <td>1</td>\n",
              "      <td>1</td>\n",
              "      <td>4</td>\n",
              "      <td>3</td>\n",
              "      <td>1</td>\n",
              "      <td>1</td>\n",
              "      <td>3</td>\n",
              "      <td>3</td>\n",
              "      <td>1</td>\n",
              "      <td>1</td>\n",
              "      <td>1</td>\n",
              "      <td>1</td>\n",
              "    </tr>\n",
              "    <tr>\n",
              "      <th>C2680</th>\n",
              "      <td>1</td>\n",
              "      <td>1</td>\n",
              "      <td>1</td>\n",
              "      <td>1</td>\n",
              "      <td>2</td>\n",
              "      <td>3</td>\n",
              "      <td>1</td>\n",
              "      <td>1</td>\n",
              "      <td>2</td>\n",
              "      <td>2</td>\n",
              "      <td>1</td>\n",
              "      <td>1</td>\n",
              "      <td>1</td>\n",
              "      <td>1</td>\n",
              "    </tr>\n",
              "    <tr>\n",
              "      <th>C2692</th>\n",
              "      <td>1</td>\n",
              "      <td>1</td>\n",
              "      <td>1</td>\n",
              "      <td>1</td>\n",
              "      <td>3</td>\n",
              "      <td>4</td>\n",
              "      <td>1</td>\n",
              "      <td>1</td>\n",
              "      <td>3</td>\n",
              "      <td>3</td>\n",
              "      <td>1</td>\n",
              "      <td>1</td>\n",
              "      <td>1</td>\n",
              "      <td>1</td>\n",
              "    </tr>\n",
              "  </tbody>\n",
              "</table>\n",
              "<p>423 rows × 14 columns</p>\n",
              "</div>"
            ],
            "text/plain": [
              "       총세대수  임대건물구분  지역  ...  도보 10분거리 내 버스정류장 수  단지내주차면수  등록차량수\n",
              "단지코드                     ...                                    \n",
              "C1000     1       1   1  ...                   1        1      1\n",
              "C1004     1       2   1  ...                   1        1      1\n",
              "C1005     1       1   1  ...                   1        1      1\n",
              "C1013     1       1   1  ...                   1        1      1\n",
              "C1014     1       1   1  ...                   1        1      1\n",
              "...     ...     ...  ..  ...                 ...      ...    ...\n",
              "C2663     1       1   1  ...                   1        1      1\n",
              "C2666     1       1   1  ...                   1        1      1\n",
              "C2670     1       1   1  ...                   1        1      1\n",
              "C2680     1       1   1  ...                   1        1      1\n",
              "C2692     1       1   1  ...                   1        1      1\n",
              "\n",
              "[423 rows x 14 columns]"
            ]
          },
          "metadata": {},
          "execution_count": 39
        }
      ]
    },
    {
      "cell_type": "code",
      "metadata": {
        "colab": {
          "base_uri": "https://localhost:8080/"
        },
        "id": "eyymDHsqctMm",
        "outputId": "57852fd1-65ed-411e-d71b-0f574678273c"
      },
      "source": [
        "train.groupby(['단지코드']).nunique(dropna=False).mean(axis=0)"
      ],
      "execution_count": 42,
      "outputs": [
        {
          "output_type": "execute_result",
          "data": {
            "text/plain": [
              "총세대수                            1.000000\n",
              "임대건물구분                          1.078014\n",
              "지역                              1.000000\n",
              "공급유형                            1.153664\n",
              "전용면적                            4.486998\n",
              "전용면적별세대수                        5.271868\n",
              "공가수                             1.000000\n",
              "자격유형                            1.205674\n",
              "임대보증금                           3.018913\n",
              "임대료                             3.047281\n",
              "도보 10분거리 내 지하철역 수(환승노선 수 반영)    1.000000\n",
              "도보 10분거리 내 버스정류장 수              1.000000\n",
              "단지내주차면수                         1.000000\n",
              "등록차량수                           1.000000\n",
              "dtype: float64"
            ]
          },
          "metadata": {},
          "execution_count": 42
        }
      ]
    },
    {
      "cell_type": "markdown",
      "metadata": {
        "id": "DaruNrouc-IT"
      },
      "source": [
        "임대건물구분, 공급유형, 전용면적, 전용면적별세대수, 자격유형, 임대보증금, 임대료는 하나의 단지코드에 대해 둘 이상의 항목 존재"
      ]
    },
    {
      "cell_type": "markdown",
      "metadata": {
        "id": "aV2nJC8Adu3l"
      },
      "source": [
        "4. 단지코드 별 분석"
      ]
    },
    {
      "cell_type": "code",
      "metadata": {
        "id": "NU827z60gmWU"
      },
      "source": [
        "def reshape_cat_features(data, cast_col, value_col):\n",
        "    res = data.drop_duplicates(['단지코드', cast_col]).assign(counter=1).pivot(index='단지코드', columns=cast_col, values=value_col).fillna(0)\n",
        "    res.columns.name = None\n",
        "    res = res.rename(columns={col:cast_col+'_'+col for col in res.columns})\n",
        "    return res"
      ],
      "execution_count": 52,
      "outputs": []
    },
    {
      "cell_type": "markdown",
      "metadata": {
        "id": "a5cmrr_1dz9a"
      },
      "source": [
        "1) 하나의 단지코드에 하나의 값만 존재하는 변수들"
      ]
    },
    {
      "cell_type": "code",
      "metadata": {
        "id": "nqGpy3jvc3KV"
      },
      "source": [
        "unique_cols = ['총세대수', '지역', '공가수', \n",
        "               '도보 10분거리 내 지하철역 수(환승노선 수 반영)',\n",
        "               '도보 10분거리 내 버스정류장 수',\n",
        "               '단지내주차면수', '등록차량수']\n",
        "train_agg = train.set_index('단지코드')[unique_cols].drop_duplicates()\n",
        "test_agg = test.set_index('단지코드')[[col for col in unique_cols if col!='등록차량수']].drop_duplicates()"
      ],
      "execution_count": 43,
      "outputs": []
    },
    {
      "cell_type": "code",
      "metadata": {
        "colab": {
          "base_uri": "https://localhost:8080/",
          "height": 296
        },
        "id": "fpmTEDLDd17a",
        "outputId": "e60db0e6-ee7f-43dc-8605-7dd8d26eb611"
      },
      "source": [
        "train_agg.head(3)"
      ],
      "execution_count": 45,
      "outputs": [
        {
          "output_type": "execute_result",
          "data": {
            "text/html": [
              "<div>\n",
              "<style scoped>\n",
              "    .dataframe tbody tr th:only-of-type {\n",
              "        vertical-align: middle;\n",
              "    }\n",
              "\n",
              "    .dataframe tbody tr th {\n",
              "        vertical-align: top;\n",
              "    }\n",
              "\n",
              "    .dataframe thead th {\n",
              "        text-align: right;\n",
              "    }\n",
              "</style>\n",
              "<table border=\"1\" class=\"dataframe\">\n",
              "  <thead>\n",
              "    <tr style=\"text-align: right;\">\n",
              "      <th></th>\n",
              "      <th>총세대수</th>\n",
              "      <th>지역</th>\n",
              "      <th>공가수</th>\n",
              "      <th>도보 10분거리 내 지하철역 수(환승노선 수 반영)</th>\n",
              "      <th>도보 10분거리 내 버스정류장 수</th>\n",
              "      <th>단지내주차면수</th>\n",
              "      <th>등록차량수</th>\n",
              "    </tr>\n",
              "    <tr>\n",
              "      <th>단지코드</th>\n",
              "      <th></th>\n",
              "      <th></th>\n",
              "      <th></th>\n",
              "      <th></th>\n",
              "      <th></th>\n",
              "      <th></th>\n",
              "      <th></th>\n",
              "    </tr>\n",
              "  </thead>\n",
              "  <tbody>\n",
              "    <tr>\n",
              "      <th>C2483</th>\n",
              "      <td>900</td>\n",
              "      <td>경상북도</td>\n",
              "      <td>38.0</td>\n",
              "      <td>0.0</td>\n",
              "      <td>3.0</td>\n",
              "      <td>1425.0</td>\n",
              "      <td>1015.0</td>\n",
              "    </tr>\n",
              "    <tr>\n",
              "      <th>C2515</th>\n",
              "      <td>545</td>\n",
              "      <td>경상남도</td>\n",
              "      <td>17.0</td>\n",
              "      <td>0.0</td>\n",
              "      <td>3.0</td>\n",
              "      <td>624.0</td>\n",
              "      <td>205.0</td>\n",
              "    </tr>\n",
              "    <tr>\n",
              "      <th>C1407</th>\n",
              "      <td>1216</td>\n",
              "      <td>대전광역시</td>\n",
              "      <td>13.0</td>\n",
              "      <td>1.0</td>\n",
              "      <td>1.0</td>\n",
              "      <td>1285.0</td>\n",
              "      <td>1064.0</td>\n",
              "    </tr>\n",
              "  </tbody>\n",
              "</table>\n",
              "</div>"
            ],
            "text/plain": [
              "       총세대수     지역   공가수  ...  도보 10분거리 내 버스정류장 수  단지내주차면수   등록차량수\n",
              "단지코드                      ...                                     \n",
              "C2483   900   경상북도  38.0  ...                 3.0   1425.0  1015.0\n",
              "C2515   545   경상남도  17.0  ...                 3.0    624.0   205.0\n",
              "C1407  1216  대전광역시  13.0  ...                 1.0   1285.0  1064.0\n",
              "\n",
              "[3 rows x 7 columns]"
            ]
          },
          "metadata": {},
          "execution_count": 45
        }
      ]
    },
    {
      "cell_type": "code",
      "metadata": {
        "colab": {
          "base_uri": "https://localhost:8080/",
          "height": 227
        },
        "id": "Og_bh46fd8wr",
        "outputId": "c6ac894b-5608-45dd-bfbd-4c30219a16f8"
      },
      "source": [
        "test_agg.head(3)"
      ],
      "execution_count": 46,
      "outputs": [
        {
          "output_type": "execute_result",
          "data": {
            "text/html": [
              "<div>\n",
              "<style scoped>\n",
              "    .dataframe tbody tr th:only-of-type {\n",
              "        vertical-align: middle;\n",
              "    }\n",
              "\n",
              "    .dataframe tbody tr th {\n",
              "        vertical-align: top;\n",
              "    }\n",
              "\n",
              "    .dataframe thead th {\n",
              "        text-align: right;\n",
              "    }\n",
              "</style>\n",
              "<table border=\"1\" class=\"dataframe\">\n",
              "  <thead>\n",
              "    <tr style=\"text-align: right;\">\n",
              "      <th></th>\n",
              "      <th>총세대수</th>\n",
              "      <th>지역</th>\n",
              "      <th>공가수</th>\n",
              "      <th>도보 10분거리 내 지하철역 수(환승노선 수 반영)</th>\n",
              "      <th>도보 10분거리 내 버스정류장 수</th>\n",
              "      <th>단지내주차면수</th>\n",
              "    </tr>\n",
              "    <tr>\n",
              "      <th>단지코드</th>\n",
              "      <th></th>\n",
              "      <th></th>\n",
              "      <th></th>\n",
              "      <th></th>\n",
              "      <th></th>\n",
              "      <th></th>\n",
              "    </tr>\n",
              "  </thead>\n",
              "  <tbody>\n",
              "    <tr>\n",
              "      <th>C1072</th>\n",
              "      <td>754</td>\n",
              "      <td>경기도</td>\n",
              "      <td>14.0</td>\n",
              "      <td>0.0</td>\n",
              "      <td>2.0</td>\n",
              "      <td>683.0</td>\n",
              "    </tr>\n",
              "    <tr>\n",
              "      <th>C1128</th>\n",
              "      <td>1354</td>\n",
              "      <td>경기도</td>\n",
              "      <td>9.0</td>\n",
              "      <td>0.0</td>\n",
              "      <td>3.0</td>\n",
              "      <td>1216.0</td>\n",
              "    </tr>\n",
              "    <tr>\n",
              "      <th>C1456</th>\n",
              "      <td>619</td>\n",
              "      <td>부산광역시</td>\n",
              "      <td>18.0</td>\n",
              "      <td>0.0</td>\n",
              "      <td>16.0</td>\n",
              "      <td>547.0</td>\n",
              "    </tr>\n",
              "  </tbody>\n",
              "</table>\n",
              "</div>"
            ],
            "text/plain": [
              "       총세대수     지역  ...  도보 10분거리 내 버스정류장 수  단지내주차면수\n",
              "단지코드                ...                             \n",
              "C1072   754    경기도  ...                 2.0    683.0\n",
              "C1128  1354    경기도  ...                 3.0   1216.0\n",
              "C1456   619  부산광역시  ...                16.0    547.0\n",
              "\n",
              "[3 rows x 6 columns]"
            ]
          },
          "metadata": {},
          "execution_count": 46
        }
      ]
    },
    {
      "cell_type": "markdown",
      "metadata": {
        "id": "3mQuZXE-eE-c"
      },
      "source": [
        "2) 하나의 단지코드에 둘 이상의 값이 존재하는 변수들"
      ]
    },
    {
      "cell_type": "markdown",
      "metadata": {
        "id": "ZyEW-RyMfCvc"
      },
      "source": [
        "공급 유형"
      ]
    },
    {
      "cell_type": "code",
      "metadata": {
        "colab": {
          "base_uri": "https://localhost:8080/",
          "height": 363
        },
        "id": "hgKraYqQeGYu",
        "outputId": "6c09e42d-86a5-4dec-f50e-a5b4420a8daf"
      },
      "source": [
        "pd.concat([train.공급유형.value_counts(), test.공급유형.value_counts()], axis=1)"
      ],
      "execution_count": 47,
      "outputs": [
        {
          "output_type": "execute_result",
          "data": {
            "text/html": [
              "<div>\n",
              "<style scoped>\n",
              "    .dataframe tbody tr th:only-of-type {\n",
              "        vertical-align: middle;\n",
              "    }\n",
              "\n",
              "    .dataframe tbody tr th {\n",
              "        vertical-align: top;\n",
              "    }\n",
              "\n",
              "    .dataframe thead th {\n",
              "        text-align: right;\n",
              "    }\n",
              "</style>\n",
              "<table border=\"1\" class=\"dataframe\">\n",
              "  <thead>\n",
              "    <tr style=\"text-align: right;\">\n",
              "      <th></th>\n",
              "      <th>공급유형</th>\n",
              "      <th>공급유형</th>\n",
              "    </tr>\n",
              "  </thead>\n",
              "  <tbody>\n",
              "    <tr>\n",
              "      <th>국민임대</th>\n",
              "      <td>1730</td>\n",
              "      <td>619.0</td>\n",
              "    </tr>\n",
              "    <tr>\n",
              "      <th>임대상가</th>\n",
              "      <td>285</td>\n",
              "      <td>112.0</td>\n",
              "    </tr>\n",
              "    <tr>\n",
              "      <th>공공임대(10년)</th>\n",
              "      <td>203</td>\n",
              "      <td>34.0</td>\n",
              "    </tr>\n",
              "    <tr>\n",
              "      <th>행복주택</th>\n",
              "      <td>203</td>\n",
              "      <td>121.0</td>\n",
              "    </tr>\n",
              "    <tr>\n",
              "      <th>영구임대</th>\n",
              "      <td>149</td>\n",
              "      <td>44.0</td>\n",
              "    </tr>\n",
              "    <tr>\n",
              "      <th>공공임대(50년)</th>\n",
              "      <td>31</td>\n",
              "      <td>13.0</td>\n",
              "    </tr>\n",
              "    <tr>\n",
              "      <th>공공임대(분납)</th>\n",
              "      <td>12</td>\n",
              "      <td>6.0</td>\n",
              "    </tr>\n",
              "    <tr>\n",
              "      <th>장기전세</th>\n",
              "      <td>9</td>\n",
              "      <td>NaN</td>\n",
              "    </tr>\n",
              "    <tr>\n",
              "      <th>공공분양</th>\n",
              "      <td>7</td>\n",
              "      <td>NaN</td>\n",
              "    </tr>\n",
              "    <tr>\n",
              "      <th>공공임대(5년)</th>\n",
              "      <td>3</td>\n",
              "      <td>NaN</td>\n",
              "    </tr>\n",
              "  </tbody>\n",
              "</table>\n",
              "</div>"
            ],
            "text/plain": [
              "           공급유형   공급유형\n",
              "국민임대       1730  619.0\n",
              "임대상가        285  112.0\n",
              "공공임대(10년)   203   34.0\n",
              "행복주택        203  121.0\n",
              "영구임대        149   44.0\n",
              "공공임대(50년)    31   13.0\n",
              "공공임대(분납)     12    6.0\n",
              "장기전세          9    NaN\n",
              "공공분양          7    NaN\n",
              "공공임대(5년)      3    NaN"
            ]
          },
          "metadata": {},
          "execution_count": 47
        }
      ]
    },
    {
      "cell_type": "code",
      "metadata": {
        "colab": {
          "base_uri": "https://localhost:8080/"
        },
        "id": "b6J8vQmTf6XN",
        "outputId": "4b794f93-70d4-4b37-d4d6-35efa452f730"
      },
      "source": [
        "train.loc[train.공급유형.isin(['공공임대(5년)', '공공분양', '공공임대(10년)', '공공임대(분납)']), '공급유형'] = '공공임대(5년/10년/분납/분양)'\n",
        "test.loc[test.공급유형.isin(['공공임대(5년)', '공공분양', '공공임대(10년)', '공공임대(분납)']), '공급유형'] = '공공임대(5년/10년/분납/분양)'\n",
        "train.loc[train.공급유형.isin(['장기전세', '국민임대']), '공급유형'] = '국민임대/장기전세'\n",
        "test.loc[test.공급유형.isin(['장기전세', '국민임대']), '공급유형'] = '국민임대/장기전세'"
      ],
      "execution_count": 48,
      "outputs": [
        {
          "output_type": "stream",
          "name": "stderr",
          "text": [
            "/usr/local/lib/python3.7/dist-packages/pandas/core/indexing.py:1763: SettingWithCopyWarning: \n",
            "A value is trying to be set on a copy of a slice from a DataFrame.\n",
            "Try using .loc[row_indexer,col_indexer] = value instead\n",
            "\n",
            "See the caveats in the documentation: https://pandas.pydata.org/pandas-docs/stable/user_guide/indexing.html#returning-a-view-versus-a-copy\n",
            "  isetter(loc, value)\n"
          ]
        }
      ]
    },
    {
      "cell_type": "markdown",
      "metadata": {
        "id": "5uBpjXswgEsM"
      },
      "source": [
        "자격 유형"
      ]
    },
    {
      "cell_type": "code",
      "metadata": {
        "id": "S_DA7nzSf8oz"
      },
      "source": [
        "# 행복주택\n",
        "train.loc[train.자격유형.isin(['J', 'L', 'K', 'N', 'M', 'O']), '자격유형'] = '행복주택_공급대상'\n",
        "test.loc[test.자격유형.isin(['J', 'L', 'K', 'N', 'M', 'O']), '자격유형'] = '행복주택_공급대상'"
      ],
      "execution_count": null,
      "outputs": []
    },
    {
      "cell_type": "code",
      "metadata": {
        "colab": {
          "base_uri": "https://localhost:8080/"
        },
        "id": "0T6SOHgxgJjn",
        "outputId": "70e1202b-69b4-4d8b-fb9d-8f8140e212a1"
      },
      "source": [
        "# 국민임대/장기전세\n",
        "train.loc[train.자격유형.isin(['H', 'B', 'E', 'G']), '자격유형'] = '국민임대/장기전세_공급대상'\n",
        "test.loc[test.자격유형.isin(['H', 'B', 'E', 'G']), '자격유형'] = '국민임대/장기전세_공급대상'\n",
        "# 영구임대\n",
        "train.loc[train.자격유형.isin(['C', 'I', 'F']), '자격유형'] = '영구임대_공급대상'\n",
        "test.loc[test.자격유형.isin(['C', 'I', 'F']), '자격유형'] = '영구임대_공급대상'"
      ],
      "execution_count": 51,
      "outputs": [
        {
          "output_type": "stream",
          "name": "stderr",
          "text": [
            "/usr/local/lib/python3.7/dist-packages/pandas/core/indexing.py:1763: SettingWithCopyWarning: \n",
            "A value is trying to be set on a copy of a slice from a DataFrame.\n",
            "Try using .loc[row_indexer,col_indexer] = value instead\n",
            "\n",
            "See the caveats in the documentation: https://pandas.pydata.org/pandas-docs/stable/user_guide/indexing.html#returning-a-view-versus-a-copy\n",
            "  isetter(loc, value)\n"
          ]
        }
      ]
    },
    {
      "cell_type": "markdown",
      "metadata": {
        "id": "p6iiHBd1gtIi"
      },
      "source": [
        "데이터 통합"
      ]
    },
    {
      "cell_type": "code",
      "metadata": {
        "id": "pxHbhldqgaXO"
      },
      "source": [
        "train_agg = pd.concat([train_agg,\n",
        "                       reshape_cat_features(data=train, cast_col='임대건물구분', value_col='counter'),\n",
        "                       reshape_cat_features(data=train, cast_col='공급유형', value_col='counter'),\n",
        "                       reshape_cat_features(data=train, cast_col='자격유형', value_col='counter')], axis=1)\n",
        "\n",
        "test_agg = pd.concat([test_agg,\n",
        "                       reshape_cat_features(data=test, cast_col='임대건물구분', value_col='counter'),\n",
        "                       reshape_cat_features(data=test, cast_col='공급유형', value_col='counter'),\n",
        "                       reshape_cat_features(data=test, cast_col='자격유형', value_col='counter')], axis=1)"
      ],
      "execution_count": 53,
      "outputs": []
    },
    {
      "cell_type": "code",
      "metadata": {
        "colab": {
          "base_uri": "https://localhost:8080/"
        },
        "id": "cIrX8B6sguUI",
        "outputId": "07d35827-e211-43a5-85f8-95074330d99e"
      },
      "source": [
        "train_agg.shape, test_agg.shape"
      ],
      "execution_count": 54,
      "outputs": [
        {
          "output_type": "execute_result",
          "data": {
            "text/plain": [
              "((423, 20), (150, 19))"
            ]
          },
          "metadata": {},
          "execution_count": 54
        }
      ]
    },
    {
      "cell_type": "markdown",
      "metadata": {
        "id": "zXZvluBdgxXz"
      },
      "source": [
        "## Modeling (using Catboost)"
      ]
    },
    {
      "cell_type": "code",
      "metadata": {
        "id": "vlOROk1VhHJm"
      },
      "source": [
        "pip install catboost"
      ],
      "execution_count": null,
      "outputs": []
    },
    {
      "cell_type": "code",
      "metadata": {
        "colab": {
          "base_uri": "https://localhost:8080/"
        },
        "id": "EnJkTQZ1g2a-",
        "outputId": "3d557c48-1dd9-4052-828a-7a4ced6be2b1"
      },
      "source": [
        "from catboost import CatBoostRegressor\n",
        "catb = CatBoostRegressor(\n",
        "         cat_features=['지역'],\n",
        "         loss_function='MAE',\n",
        "         n_estimators=500, \n",
        "         learning_rate=0.05, \n",
        "         random_state=42\n",
        "    )\n",
        "    \n",
        "catb.fit(train_agg.drop(columns=[target_col]), train_agg['등록차량수'], verbose=200)"
      ],
      "execution_count": 60,
      "outputs": [
        {
          "output_type": "stream",
          "name": "stdout",
          "text": [
            "0:\tlearn: 279.3964528\ttotal: 2.09ms\tremaining: 1.04s\n",
            "200:\tlearn: 75.2070254\ttotal: 346ms\tremaining: 515ms\n",
            "400:\tlearn: 54.0292543\ttotal: 743ms\tremaining: 183ms\n",
            "499:\tlearn: 50.0553217\ttotal: 927ms\tremaining: 0us\n"
          ]
        },
        {
          "output_type": "execute_result",
          "data": {
            "text/plain": [
              "<catboost.core.CatBoostRegressor at 0x7f97ab2f9410>"
            ]
          },
          "metadata": {},
          "execution_count": 60
        }
      ]
    },
    {
      "cell_type": "code",
      "metadata": {
        "colab": {
          "base_uri": "https://localhost:8080/",
          "height": 423
        },
        "id": "FaCcXjj4g4-S",
        "outputId": "67d084b4-c865-4ef9-fd8e-b7ff21b6c6bc"
      },
      "source": [
        "sample_submission = pd.read_csv('/content/sample_submission.csv')\n",
        "sample_submission['num'] = catb.predict(test_agg)\n",
        "sample_submission"
      ],
      "execution_count": 64,
      "outputs": [
        {
          "output_type": "execute_result",
          "data": {
            "text/html": [
              "<div>\n",
              "<style scoped>\n",
              "    .dataframe tbody tr th:only-of-type {\n",
              "        vertical-align: middle;\n",
              "    }\n",
              "\n",
              "    .dataframe tbody tr th {\n",
              "        vertical-align: top;\n",
              "    }\n",
              "\n",
              "    .dataframe thead th {\n",
              "        text-align: right;\n",
              "    }\n",
              "</style>\n",
              "<table border=\"1\" class=\"dataframe\">\n",
              "  <thead>\n",
              "    <tr style=\"text-align: right;\">\n",
              "      <th></th>\n",
              "      <th>code</th>\n",
              "      <th>num</th>\n",
              "    </tr>\n",
              "  </thead>\n",
              "  <tbody>\n",
              "    <tr>\n",
              "      <th>0</th>\n",
              "      <td>C1072</td>\n",
              "      <td>678.748011</td>\n",
              "    </tr>\n",
              "    <tr>\n",
              "      <th>1</th>\n",
              "      <td>C1128</td>\n",
              "      <td>1183.305560</td>\n",
              "    </tr>\n",
              "    <tr>\n",
              "      <th>2</th>\n",
              "      <td>C1456</td>\n",
              "      <td>568.547066</td>\n",
              "    </tr>\n",
              "    <tr>\n",
              "      <th>3</th>\n",
              "      <td>C1840</td>\n",
              "      <td>519.937576</td>\n",
              "    </tr>\n",
              "    <tr>\n",
              "      <th>4</th>\n",
              "      <td>C1332</td>\n",
              "      <td>1050.366626</td>\n",
              "    </tr>\n",
              "    <tr>\n",
              "      <th>...</th>\n",
              "      <td>...</td>\n",
              "      <td>...</td>\n",
              "    </tr>\n",
              "    <tr>\n",
              "      <th>145</th>\n",
              "      <td>C2456</td>\n",
              "      <td>262.919072</td>\n",
              "    </tr>\n",
              "    <tr>\n",
              "      <th>146</th>\n",
              "      <td>C1266</td>\n",
              "      <td>428.923075</td>\n",
              "    </tr>\n",
              "    <tr>\n",
              "      <th>147</th>\n",
              "      <td>C2152</td>\n",
              "      <td>50.028510</td>\n",
              "    </tr>\n",
              "    <tr>\n",
              "      <th>148</th>\n",
              "      <td>C1267</td>\n",
              "      <td>285.955245</td>\n",
              "    </tr>\n",
              "    <tr>\n",
              "      <th>149</th>\n",
              "      <td>C2189</td>\n",
              "      <td>189.475808</td>\n",
              "    </tr>\n",
              "  </tbody>\n",
              "</table>\n",
              "<p>150 rows × 2 columns</p>\n",
              "</div>"
            ],
            "text/plain": [
              "      code          num\n",
              "0    C1072   678.748011\n",
              "1    C1128  1183.305560\n",
              "2    C1456   568.547066\n",
              "3    C1840   519.937576\n",
              "4    C1332  1050.366626\n",
              "..     ...          ...\n",
              "145  C2456   262.919072\n",
              "146  C1266   428.923075\n",
              "147  C2152    50.028510\n",
              "148  C1267   285.955245\n",
              "149  C2189   189.475808\n",
              "\n",
              "[150 rows x 2 columns]"
            ]
          },
          "metadata": {},
          "execution_count": 64
        }
      ]
    },
    {
      "cell_type": "code",
      "metadata": {
        "id": "K6I2BjKkhuyB"
      },
      "source": [
        "sample_submission.to_csv('submission.csv', index=False)"
      ],
      "execution_count": 65,
      "outputs": []
    },
    {
      "cell_type": "markdown",
      "metadata": {
        "id": "iqep-FhqiV7-"
      },
      "source": [
        "## 결과"
      ]
    },
    {
      "cell_type": "markdown",
      "metadata": {
        "id": "JAzVex47iXcI"
      },
      "source": [
        "![image.png](data:image/png;base64,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)"
      ]
    }
  ]
}