{
  "nbformat": 4,
  "nbformat_minor": 0,
  "metadata": {
    "colab": {
      "name": "신용카드 사용자 연체 예측 AI 경진대회.ipynb",
      "provenance": [],
      "authorship_tag": "ABX9TyPUYBotnXA2mwiRL8XOANcf",
      "include_colab_link": true
    },
    "kernelspec": {
      "name": "python3",
      "display_name": "Python 3"
    },
    "language_info": {
      "name": "python"
    }
  },
  "cells": [
    {
      "cell_type": "markdown",
      "metadata": {
        "id": "view-in-github",
        "colab_type": "text"
      },
      "source": [
        "<a href=\"https://colab.research.google.com/github/bob8dod/Kaggle_and_Dacon/blob/main/Dacon/(2)_%EC%8B%A0%EC%9A%A9%EC%B9%B4%EB%93%9C_%EC%82%AC%EC%9A%A9%EC%9E%90_%EC%97%B0%EC%B2%B4_%EC%98%88%EC%B8%A1_AI_%EA%B2%BD%EC%A7%84%EB%8C%80%ED%9A%8C.ipynb\" target=\"_parent\"><img src=\"https://colab.research.google.com/assets/colab-badge.svg\" alt=\"Open In Colab\"/></a>"
      ]
    },
    {
      "cell_type": "code",
      "metadata": {
        "id": "A85KfqApztyj"
      },
      "source": [
        "import pandas as pd\n",
        "import numpy as np"
      ],
      "execution_count": 2,
      "outputs": []
    },
    {
      "cell_type": "code",
      "metadata": {
        "id": "sHOycM7s0WTT"
      },
      "source": [
        "train = pd.read_csv('/content/train.csv')\n",
        "test_data = pd.read_csv('/content/test.csv')"
      ],
      "execution_count": 86,
      "outputs": []
    },
    {
      "cell_type": "markdown",
      "metadata": {
        "id": "kREd3MZxHKnD"
      },
      "source": [
        "## 데이터 확인 및 분리"
      ]
    },
    {
      "cell_type": "code",
      "metadata": {
        "colab": {
          "base_uri": "https://localhost:8080/",
          "height": 374
        },
        "id": "uwu7vHne0igA",
        "outputId": "20244c9b-6e40-4a91-d7b0-ae422ca97126"
      },
      "source": [
        "train.head()"
      ],
      "execution_count": 45,
      "outputs": [
        {
          "output_type": "execute_result",
          "data": {
            "text/html": [
              "<div>\n",
              "<style scoped>\n",
              "    .dataframe tbody tr th:only-of-type {\n",
              "        vertical-align: middle;\n",
              "    }\n",
              "\n",
              "    .dataframe tbody tr th {\n",
              "        vertical-align: top;\n",
              "    }\n",
              "\n",
              "    .dataframe thead th {\n",
              "        text-align: right;\n",
              "    }\n",
              "</style>\n",
              "<table border=\"1\" class=\"dataframe\">\n",
              "  <thead>\n",
              "    <tr style=\"text-align: right;\">\n",
              "      <th></th>\n",
              "      <th>index</th>\n",
              "      <th>gender</th>\n",
              "      <th>car</th>\n",
              "      <th>reality</th>\n",
              "      <th>child_num</th>\n",
              "      <th>income_total</th>\n",
              "      <th>income_type</th>\n",
              "      <th>edu_type</th>\n",
              "      <th>family_type</th>\n",
              "      <th>house_type</th>\n",
              "      <th>DAYS_BIRTH</th>\n",
              "      <th>DAYS_EMPLOYED</th>\n",
              "      <th>FLAG_MOBIL</th>\n",
              "      <th>work_phone</th>\n",
              "      <th>phone</th>\n",
              "      <th>email</th>\n",
              "      <th>occyp_type</th>\n",
              "      <th>family_size</th>\n",
              "      <th>begin_month</th>\n",
              "      <th>credit</th>\n",
              "    </tr>\n",
              "  </thead>\n",
              "  <tbody>\n",
              "    <tr>\n",
              "      <th>0</th>\n",
              "      <td>0</td>\n",
              "      <td>F</td>\n",
              "      <td>N</td>\n",
              "      <td>N</td>\n",
              "      <td>0</td>\n",
              "      <td>202500.0</td>\n",
              "      <td>Commercial associate</td>\n",
              "      <td>Higher education</td>\n",
              "      <td>Married</td>\n",
              "      <td>Municipal apartment</td>\n",
              "      <td>-13899</td>\n",
              "      <td>-4709</td>\n",
              "      <td>1</td>\n",
              "      <td>0</td>\n",
              "      <td>0</td>\n",
              "      <td>0</td>\n",
              "      <td>NaN</td>\n",
              "      <td>2.0</td>\n",
              "      <td>-6.0</td>\n",
              "      <td>1.0</td>\n",
              "    </tr>\n",
              "    <tr>\n",
              "      <th>1</th>\n",
              "      <td>1</td>\n",
              "      <td>F</td>\n",
              "      <td>N</td>\n",
              "      <td>Y</td>\n",
              "      <td>1</td>\n",
              "      <td>247500.0</td>\n",
              "      <td>Commercial associate</td>\n",
              "      <td>Secondary / secondary special</td>\n",
              "      <td>Civil marriage</td>\n",
              "      <td>House / apartment</td>\n",
              "      <td>-11380</td>\n",
              "      <td>-1540</td>\n",
              "      <td>1</td>\n",
              "      <td>0</td>\n",
              "      <td>0</td>\n",
              "      <td>1</td>\n",
              "      <td>Laborers</td>\n",
              "      <td>3.0</td>\n",
              "      <td>-5.0</td>\n",
              "      <td>1.0</td>\n",
              "    </tr>\n",
              "    <tr>\n",
              "      <th>2</th>\n",
              "      <td>2</td>\n",
              "      <td>M</td>\n",
              "      <td>Y</td>\n",
              "      <td>Y</td>\n",
              "      <td>0</td>\n",
              "      <td>450000.0</td>\n",
              "      <td>Working</td>\n",
              "      <td>Higher education</td>\n",
              "      <td>Married</td>\n",
              "      <td>House / apartment</td>\n",
              "      <td>-19087</td>\n",
              "      <td>-4434</td>\n",
              "      <td>1</td>\n",
              "      <td>0</td>\n",
              "      <td>1</td>\n",
              "      <td>0</td>\n",
              "      <td>Managers</td>\n",
              "      <td>2.0</td>\n",
              "      <td>-22.0</td>\n",
              "      <td>2.0</td>\n",
              "    </tr>\n",
              "    <tr>\n",
              "      <th>3</th>\n",
              "      <td>3</td>\n",
              "      <td>F</td>\n",
              "      <td>N</td>\n",
              "      <td>Y</td>\n",
              "      <td>0</td>\n",
              "      <td>202500.0</td>\n",
              "      <td>Commercial associate</td>\n",
              "      <td>Secondary / secondary special</td>\n",
              "      <td>Married</td>\n",
              "      <td>House / apartment</td>\n",
              "      <td>-15088</td>\n",
              "      <td>-2092</td>\n",
              "      <td>1</td>\n",
              "      <td>0</td>\n",
              "      <td>1</td>\n",
              "      <td>0</td>\n",
              "      <td>Sales staff</td>\n",
              "      <td>2.0</td>\n",
              "      <td>-37.0</td>\n",
              "      <td>0.0</td>\n",
              "    </tr>\n",
              "    <tr>\n",
              "      <th>4</th>\n",
              "      <td>4</td>\n",
              "      <td>F</td>\n",
              "      <td>Y</td>\n",
              "      <td>Y</td>\n",
              "      <td>0</td>\n",
              "      <td>157500.0</td>\n",
              "      <td>State servant</td>\n",
              "      <td>Higher education</td>\n",
              "      <td>Married</td>\n",
              "      <td>House / apartment</td>\n",
              "      <td>-15037</td>\n",
              "      <td>-2105</td>\n",
              "      <td>1</td>\n",
              "      <td>0</td>\n",
              "      <td>0</td>\n",
              "      <td>0</td>\n",
              "      <td>Managers</td>\n",
              "      <td>2.0</td>\n",
              "      <td>-26.0</td>\n",
              "      <td>2.0</td>\n",
              "    </tr>\n",
              "  </tbody>\n",
              "</table>\n",
              "</div>"
            ],
            "text/plain": [
              "   index gender car reality  ...   occyp_type  family_size begin_month credit\n",
              "0      0      F   N       N  ...          NaN          2.0        -6.0    1.0\n",
              "1      1      F   N       Y  ...     Laborers          3.0        -5.0    1.0\n",
              "2      2      M   Y       Y  ...     Managers          2.0       -22.0    2.0\n",
              "3      3      F   N       Y  ...  Sales staff          2.0       -37.0    0.0\n",
              "4      4      F   Y       Y  ...     Managers          2.0       -26.0    2.0\n",
              "\n",
              "[5 rows x 20 columns]"
            ]
          },
          "metadata": {},
          "execution_count": 45
        }
      ]
    },
    {
      "cell_type": "markdown",
      "metadata": {
        "id": "Uwk3Lxy05Itq"
      },
      "source": [
        "gender: 성별\n",
        "\n",
        "\n",
        "car: 차량 소유 여부\n",
        "\n",
        "\n",
        "reality: 부동산 소유 여부\n",
        "\n",
        "\n",
        "child_num: 자녀 수\n",
        "\n",
        "\n",
        "income_total: 연간 소득\n",
        "\n",
        "\n",
        "income_type: 소득 분류\n",
        "\n",
        "\n",
        "\t\t\t\t\t\t\t['Commercial associate', 'Working', 'State servant', 'Pensioner', 'Student']\n",
        "\n",
        "\n",
        "\n",
        "edu_type: 교육 수준\n",
        "\n",
        "\n",
        "\t\t\t\t\t\t\t['Higher education' ,'Secondary / secondary special', 'Incomplete higher', 'Lower secondary', 'Academic degree']\n",
        "\n",
        "\n",
        "\n",
        "family_type: 결혼 여부\n",
        "\n",
        "\n",
        "\t\t\t\t\t\t\t['Married', 'Civil marriage', 'Separated', 'Single / not married', 'Widow']\n",
        "\n",
        "\n",
        "\n",
        "house_type: 생활 방식\n",
        "\n",
        "\n",
        "\t\t\t\t\t\t\t['Municipal apartment', 'House / apartment', 'With parents',\n",
        "\n",
        "\t\t\t\t\t\t\t\n",
        "\n",
        "\t\t\t\t\t\t\t 'Co-op apartment', 'Rented apartment', 'Office apartment']\n",
        "\n",
        "\n",
        "\n",
        "DAYS_BIRTH: 출생일\n",
        "\n",
        "\n",
        "\t\t\t\t\t\t\t데이터 수집 당시 (0)부터 역으로 셈, 즉, -1은 데이터 수집일 하루 전에 태어났음을 의미\n",
        "\n",
        "\n",
        "\n",
        "DAYS_EMPLOYED: 업무 시작일\n",
        "\n",
        "\n",
        "\t\t\t\t\t\t\t데이터 수집 당시 (0)부터 역으로 셈, 즉, -1은 데이터 수집일 하루 전부터 일을 시작함을 의미\n",
        "\n",
        "\t\t\t\t\t\t\t\t\t\t\t\t\t\n",
        "\n",
        "\t\t\t\t\t\t\t양수 값은 고용되지 않은 상태를 의미함\n",
        "\n",
        "\n",
        "\n",
        "FLAG_MOBIL: 핸드폰 소유 여부\n",
        "\n",
        "\n",
        "work_phone: 업무용 전화 소유 여부\n",
        "\n",
        "\n",
        "phone: 전화 소유 여부\n",
        "\n",
        "\n",
        "email: 이메일 소유 여부\n",
        "\n",
        "\n",
        "occyp_type: 직업 유형\t\t\t\t\t\t\t\t\t\t\t\t\t\n",
        "\n",
        "\n",
        "family_size: 가족 규모\n",
        "\n",
        "\n",
        "begin_month: 신용카드 발급 월\n",
        "\t\t\t\n",
        "\n",
        "\t\t\t\t\t\t\t데이터 수집 당시 (0)부터 역으로 셈, 즉, -1은 데이터 수집일 한 달 전에 신용카드를 발급함을 의미\n",
        "\n",
        "\n",
        "\n",
        "\n",
        "\n",
        "\n",
        "\n",
        "credit: 사용자의 신용카드 대금 연체를 기준으로 한 신용도\n",
        "\n",
        "\n",
        "\t\t\t\t\t\t\t=> 낮을 수록 높은 신용의 신용카드 사용자를 의미함"
      ]
    },
    {
      "cell_type": "code",
      "metadata": {
        "colab": {
          "base_uri": "https://localhost:8080/"
        },
        "id": "t7xO3GdM3JNL",
        "outputId": "024e56ff-87ab-463a-f52e-08ea9eaa0c4f"
      },
      "source": [
        "print(train.isnull().sum())\n",
        "print(test_data.isnull().sum())"
      ],
      "execution_count": 87,
      "outputs": [
        {
          "output_type": "stream",
          "name": "stdout",
          "text": [
            "index               0\n",
            "gender              0\n",
            "car                 0\n",
            "reality             0\n",
            "child_num           0\n",
            "income_total        0\n",
            "income_type         0\n",
            "edu_type            0\n",
            "family_type         0\n",
            "house_type          0\n",
            "DAYS_BIRTH          0\n",
            "DAYS_EMPLOYED       0\n",
            "FLAG_MOBIL          0\n",
            "work_phone          0\n",
            "phone               0\n",
            "email               0\n",
            "occyp_type       8171\n",
            "family_size         0\n",
            "begin_month         0\n",
            "credit              0\n",
            "dtype: int64\n",
            "index               0\n",
            "gender              0\n",
            "car                 0\n",
            "reality             0\n",
            "child_num           0\n",
            "income_total        0\n",
            "income_type         0\n",
            "edu_type            0\n",
            "family_type         0\n",
            "house_type          0\n",
            "DAYS_BIRTH          0\n",
            "DAYS_EMPLOYED       0\n",
            "FLAG_MOBIL          0\n",
            "work_phone          0\n",
            "phone               0\n",
            "email               0\n",
            "occyp_type       3152\n",
            "family_size         0\n",
            "begin_month         0\n",
            "dtype: int64\n"
          ]
        }
      ]
    },
    {
      "cell_type": "code",
      "metadata": {
        "colab": {
          "base_uri": "https://localhost:8080/"
        },
        "id": "KItkrOdc0kaj",
        "outputId": "7df4c40e-7cb7-4619-9d08-04405d8a1ea6"
      },
      "source": [
        "to_check = ['gender', 'car', 'reality', 'child_num', 'income_type', 'edu_type', 'family_type','house_type', 'FLAG_MOBIL', 'work_phone', 'phone', 'email', 'family_size', 'credit'] #occyp_type\n",
        "for col in to_check:\n",
        "    print(col, np.unique(train[col]), '->', len(np.unique(train[col])))\n",
        "print('-----------------------')\n",
        "for col in to_check:\n",
        "    if col == 'credit':\n",
        "        continue\n",
        "    print(col, np.unique(test_data[col]), '->', len(np.unique(test_data[col])))"
      ],
      "execution_count": 88,
      "outputs": [
        {
          "output_type": "stream",
          "name": "stdout",
          "text": [
            "gender ['F' 'M'] -> 2\n",
            "car ['N' 'Y'] -> 2\n",
            "reality ['N' 'Y'] -> 2\n",
            "child_num [ 0  1  2  3  4  5  7 14 19] -> 9\n",
            "income_type ['Commercial associate' 'Pensioner' 'State servant' 'Student' 'Working'] -> 5\n",
            "edu_type ['Academic degree' 'Higher education' 'Incomplete higher'\n",
            " 'Lower secondary' 'Secondary / secondary special'] -> 5\n",
            "family_type ['Civil marriage' 'Married' 'Separated' 'Single / not married' 'Widow'] -> 5\n",
            "house_type ['Co-op apartment' 'House / apartment' 'Municipal apartment'\n",
            " 'Office apartment' 'Rented apartment' 'With parents'] -> 6\n",
            "FLAG_MOBIL [1] -> 1\n",
            "work_phone [0 1] -> 2\n",
            "phone [0 1] -> 2\n",
            "email [0 1] -> 2\n",
            "family_size [ 1.  2.  3.  4.  5.  6.  7.  9. 15. 20.] -> 10\n",
            "credit [0. 1. 2.] -> 3\n",
            "-----------------------\n",
            "gender ['F' 'M'] -> 2\n",
            "car ['N' 'Y'] -> 2\n",
            "reality ['N' 'Y'] -> 2\n",
            "child_num [0 1 2 3 4 5] -> 6\n",
            "income_type ['Commercial associate' 'Pensioner' 'State servant' 'Student' 'Working'] -> 5\n",
            "edu_type ['Academic degree' 'Higher education' 'Incomplete higher'\n",
            " 'Lower secondary' 'Secondary / secondary special'] -> 5\n",
            "family_type ['Civil marriage' 'Married' 'Separated' 'Single / not married' 'Widow'] -> 5\n",
            "house_type ['Co-op apartment' 'House / apartment' 'Municipal apartment'\n",
            " 'Office apartment' 'Rented apartment' 'With parents'] -> 6\n",
            "FLAG_MOBIL [1] -> 1\n",
            "work_phone [0 1] -> 2\n",
            "phone [0 1] -> 2\n",
            "email [0 1] -> 2\n",
            "family_size [1. 2. 3. 4. 5. 6. 7.] -> 7\n"
          ]
        }
      ]
    },
    {
      "cell_type": "markdown",
      "metadata": {
        "id": "e2dHghCf6lwO"
      },
      "source": [
        "**child_num** :  7,14,19 같은 test에 없는 값같은 경우 많은 비율을 차지하지 않기때문에 제거해도 될듯  \n",
        "**FLAG_MOBIL** : 모든 값이 1, 제거 필요  \n",
        "**family_size** : 9,15,20 같은 test에 없는 값 같은 경우 많은 비율을 차지하지 않기 때문에 제거 필요 -> 찾아보니 child_num 과 같은 사람들임. \n"
      ]
    },
    {
      "cell_type": "code",
      "metadata": {
        "colab": {
          "base_uri": "https://localhost:8080/"
        },
        "id": "-SgsELfT00j-",
        "outputId": "7d3f95fb-cc41-43c2-f8db-fd3c75dab3df"
      },
      "source": [
        "del_idx = []\n",
        "for i in [7,14,19]:\n",
        "    del_idx.extend(list(train[train['child_num']==i].index))\n",
        "del_idx"
      ],
      "execution_count": 89,
      "outputs": [
        {
          "output_type": "execute_result",
          "data": {
            "text/plain": [
              "[25313, 25638, 8462, 9021, 25390, 10731]"
            ]
          },
          "metadata": {},
          "execution_count": 89
        }
      ]
    },
    {
      "cell_type": "code",
      "metadata": {
        "colab": {
          "base_uri": "https://localhost:8080/"
        },
        "id": "3tLg8a105psi",
        "outputId": "67557db1-1aba-449e-bdec-57050271c48a"
      },
      "source": [
        "del_idx2 = []\n",
        "for i in [9,15,20]:\n",
        "    del_idx2.extend(list(train[train['family_size']==i].index))\n",
        "del_idx2"
      ],
      "execution_count": 90,
      "outputs": [
        {
          "output_type": "execute_result",
          "data": {
            "text/plain": [
              "[25313, 25638, 8462, 9021, 25390, 10731]"
            ]
          },
          "metadata": {},
          "execution_count": 90
        }
      ]
    },
    {
      "cell_type": "code",
      "metadata": {
        "colab": {
          "base_uri": "https://localhost:8080/"
        },
        "id": "fARBZk7k99iB",
        "outputId": "f8a34334-9324-4d1f-a208-d50f669396b3"
      },
      "source": [
        "del_idx == del_idx2"
      ],
      "execution_count": 91,
      "outputs": [
        {
          "output_type": "execute_result",
          "data": {
            "text/plain": [
              "True"
            ]
          },
          "metadata": {},
          "execution_count": 91
        }
      ]
    },
    {
      "cell_type": "code",
      "metadata": {
        "colab": {
          "base_uri": "https://localhost:8080/",
          "height": 374
        },
        "id": "uiqGucka94oy",
        "outputId": "a67b2dec-2235-4f8d-984d-3268f050e4da"
      },
      "source": [
        "train = train.drop(del_idx).reset_index(drop=True)\n",
        "train.head()"
      ],
      "execution_count": 92,
      "outputs": [
        {
          "output_type": "execute_result",
          "data": {
            "text/html": [
              "<div>\n",
              "<style scoped>\n",
              "    .dataframe tbody tr th:only-of-type {\n",
              "        vertical-align: middle;\n",
              "    }\n",
              "\n",
              "    .dataframe tbody tr th {\n",
              "        vertical-align: top;\n",
              "    }\n",
              "\n",
              "    .dataframe thead th {\n",
              "        text-align: right;\n",
              "    }\n",
              "</style>\n",
              "<table border=\"1\" class=\"dataframe\">\n",
              "  <thead>\n",
              "    <tr style=\"text-align: right;\">\n",
              "      <th></th>\n",
              "      <th>index</th>\n",
              "      <th>gender</th>\n",
              "      <th>car</th>\n",
              "      <th>reality</th>\n",
              "      <th>child_num</th>\n",
              "      <th>income_total</th>\n",
              "      <th>income_type</th>\n",
              "      <th>edu_type</th>\n",
              "      <th>family_type</th>\n",
              "      <th>house_type</th>\n",
              "      <th>DAYS_BIRTH</th>\n",
              "      <th>DAYS_EMPLOYED</th>\n",
              "      <th>FLAG_MOBIL</th>\n",
              "      <th>work_phone</th>\n",
              "      <th>phone</th>\n",
              "      <th>email</th>\n",
              "      <th>occyp_type</th>\n",
              "      <th>family_size</th>\n",
              "      <th>begin_month</th>\n",
              "      <th>credit</th>\n",
              "    </tr>\n",
              "  </thead>\n",
              "  <tbody>\n",
              "    <tr>\n",
              "      <th>0</th>\n",
              "      <td>0</td>\n",
              "      <td>F</td>\n",
              "      <td>N</td>\n",
              "      <td>N</td>\n",
              "      <td>0</td>\n",
              "      <td>202500.0</td>\n",
              "      <td>Commercial associate</td>\n",
              "      <td>Higher education</td>\n",
              "      <td>Married</td>\n",
              "      <td>Municipal apartment</td>\n",
              "      <td>-13899</td>\n",
              "      <td>-4709</td>\n",
              "      <td>1</td>\n",
              "      <td>0</td>\n",
              "      <td>0</td>\n",
              "      <td>0</td>\n",
              "      <td>NaN</td>\n",
              "      <td>2.0</td>\n",
              "      <td>-6.0</td>\n",
              "      <td>1.0</td>\n",
              "    </tr>\n",
              "    <tr>\n",
              "      <th>1</th>\n",
              "      <td>1</td>\n",
              "      <td>F</td>\n",
              "      <td>N</td>\n",
              "      <td>Y</td>\n",
              "      <td>1</td>\n",
              "      <td>247500.0</td>\n",
              "      <td>Commercial associate</td>\n",
              "      <td>Secondary / secondary special</td>\n",
              "      <td>Civil marriage</td>\n",
              "      <td>House / apartment</td>\n",
              "      <td>-11380</td>\n",
              "      <td>-1540</td>\n",
              "      <td>1</td>\n",
              "      <td>0</td>\n",
              "      <td>0</td>\n",
              "      <td>1</td>\n",
              "      <td>Laborers</td>\n",
              "      <td>3.0</td>\n",
              "      <td>-5.0</td>\n",
              "      <td>1.0</td>\n",
              "    </tr>\n",
              "    <tr>\n",
              "      <th>2</th>\n",
              "      <td>2</td>\n",
              "      <td>M</td>\n",
              "      <td>Y</td>\n",
              "      <td>Y</td>\n",
              "      <td>0</td>\n",
              "      <td>450000.0</td>\n",
              "      <td>Working</td>\n",
              "      <td>Higher education</td>\n",
              "      <td>Married</td>\n",
              "      <td>House / apartment</td>\n",
              "      <td>-19087</td>\n",
              "      <td>-4434</td>\n",
              "      <td>1</td>\n",
              "      <td>0</td>\n",
              "      <td>1</td>\n",
              "      <td>0</td>\n",
              "      <td>Managers</td>\n",
              "      <td>2.0</td>\n",
              "      <td>-22.0</td>\n",
              "      <td>2.0</td>\n",
              "    </tr>\n",
              "    <tr>\n",
              "      <th>3</th>\n",
              "      <td>3</td>\n",
              "      <td>F</td>\n",
              "      <td>N</td>\n",
              "      <td>Y</td>\n",
              "      <td>0</td>\n",
              "      <td>202500.0</td>\n",
              "      <td>Commercial associate</td>\n",
              "      <td>Secondary / secondary special</td>\n",
              "      <td>Married</td>\n",
              "      <td>House / apartment</td>\n",
              "      <td>-15088</td>\n",
              "      <td>-2092</td>\n",
              "      <td>1</td>\n",
              "      <td>0</td>\n",
              "      <td>1</td>\n",
              "      <td>0</td>\n",
              "      <td>Sales staff</td>\n",
              "      <td>2.0</td>\n",
              "      <td>-37.0</td>\n",
              "      <td>0.0</td>\n",
              "    </tr>\n",
              "    <tr>\n",
              "      <th>4</th>\n",
              "      <td>4</td>\n",
              "      <td>F</td>\n",
              "      <td>Y</td>\n",
              "      <td>Y</td>\n",
              "      <td>0</td>\n",
              "      <td>157500.0</td>\n",
              "      <td>State servant</td>\n",
              "      <td>Higher education</td>\n",
              "      <td>Married</td>\n",
              "      <td>House / apartment</td>\n",
              "      <td>-15037</td>\n",
              "      <td>-2105</td>\n",
              "      <td>1</td>\n",
              "      <td>0</td>\n",
              "      <td>0</td>\n",
              "      <td>0</td>\n",
              "      <td>Managers</td>\n",
              "      <td>2.0</td>\n",
              "      <td>-26.0</td>\n",
              "      <td>2.0</td>\n",
              "    </tr>\n",
              "  </tbody>\n",
              "</table>\n",
              "</div>"
            ],
            "text/plain": [
              "   index gender car reality  ...   occyp_type  family_size begin_month credit\n",
              "0      0      F   N       N  ...          NaN          2.0        -6.0    1.0\n",
              "1      1      F   N       Y  ...     Laborers          3.0        -5.0    1.0\n",
              "2      2      M   Y       Y  ...     Managers          2.0       -22.0    2.0\n",
              "3      3      F   N       Y  ...  Sales staff          2.0       -37.0    0.0\n",
              "4      4      F   Y       Y  ...     Managers          2.0       -26.0    2.0\n",
              "\n",
              "[5 rows x 20 columns]"
            ]
          },
          "metadata": {},
          "execution_count": 92
        }
      ]
    },
    {
      "cell_type": "code",
      "metadata": {
        "colab": {
          "base_uri": "https://localhost:8080/"
        },
        "id": "bp9WoEoKBQ0r",
        "outputId": "99dbb2e1-d0d0-4779-a037-f33e2e8785f2"
      },
      "source": [
        "train['child_num'].unique()"
      ],
      "execution_count": 93,
      "outputs": [
        {
          "output_type": "execute_result",
          "data": {
            "text/plain": [
              "array([0, 1, 2, 3, 4, 5])"
            ]
          },
          "metadata": {},
          "execution_count": 93
        }
      ]
    },
    {
      "cell_type": "code",
      "metadata": {
        "colab": {
          "base_uri": "https://localhost:8080/"
        },
        "id": "HZQfofto7jQr",
        "outputId": "f7e7a5c9-7dc9-496e-d007-68d4f3deac97"
      },
      "source": [
        "# 데이터 분리 및 불필요한 col 제거\n",
        "X = train.drop(['index','credit','FLAG_MOBIL','occyp_type'], axis=1)\n",
        "test = test_data.drop(['index', 'FLAG_MOBIL','occyp_type'], axis=1)\n",
        "y = train['credit']\n",
        "print(X.shape)\n",
        "print(y.shape)\n",
        "print(test.shape)"
      ],
      "execution_count": 178,
      "outputs": [
        {
          "output_type": "stream",
          "name": "stdout",
          "text": [
            "(26451, 16)\n",
            "(26451,)\n",
            "(10000, 16)\n"
          ]
        }
      ]
    },
    {
      "cell_type": "markdown",
      "metadata": {
        "id": "MSRODg1EG9ek"
      },
      "source": [
        "## 데이터 전처리"
      ]
    },
    {
      "cell_type": "code",
      "metadata": {
        "id": "kXHeqDy48WQp"
      },
      "source": [
        "X['DAYS_BIRTH'] = X['DAYS_BIRTH'].apply(lambda x:abs(x//360))\n",
        "test['DAYS_BIRTH'] = test['DAYS_BIRTH'].apply(lambda x:abs(x//360))\n",
        "X['DAYS_EMPLOYED'] = X['DAYS_EMPLOYED'].apply(lambda x:abs(x//360))\n",
        "test['DAYS_EMPLOYED'] = test['DAYS_EMPLOYED'].apply(lambda x:abs(x//360))\n",
        "X['begin_month'] = X['begin_month'].apply(lambda x:int(abs(x)))\n",
        "test['begin_month'] = test['begin_month'].apply(lambda x:int(abs(x)))"
      ],
      "execution_count": 179,
      "outputs": []
    },
    {
      "cell_type": "code",
      "metadata": {
        "colab": {
          "base_uri": "https://localhost:8080/",
          "height": 192
        },
        "id": "AkYGL1Cr9lkj",
        "outputId": "9edffc4f-8c33-472f-a8e6-8862c657189d"
      },
      "source": [
        "X.head(3)"
      ],
      "execution_count": 180,
      "outputs": [
        {
          "output_type": "execute_result",
          "data": {
            "text/html": [
              "<div>\n",
              "<style scoped>\n",
              "    .dataframe tbody tr th:only-of-type {\n",
              "        vertical-align: middle;\n",
              "    }\n",
              "\n",
              "    .dataframe tbody tr th {\n",
              "        vertical-align: top;\n",
              "    }\n",
              "\n",
              "    .dataframe thead th {\n",
              "        text-align: right;\n",
              "    }\n",
              "</style>\n",
              "<table border=\"1\" class=\"dataframe\">\n",
              "  <thead>\n",
              "    <tr style=\"text-align: right;\">\n",
              "      <th></th>\n",
              "      <th>gender</th>\n",
              "      <th>car</th>\n",
              "      <th>reality</th>\n",
              "      <th>child_num</th>\n",
              "      <th>income_total</th>\n",
              "      <th>income_type</th>\n",
              "      <th>edu_type</th>\n",
              "      <th>family_type</th>\n",
              "      <th>house_type</th>\n",
              "      <th>DAYS_BIRTH</th>\n",
              "      <th>DAYS_EMPLOYED</th>\n",
              "      <th>work_phone</th>\n",
              "      <th>phone</th>\n",
              "      <th>email</th>\n",
              "      <th>family_size</th>\n",
              "      <th>begin_month</th>\n",
              "    </tr>\n",
              "  </thead>\n",
              "  <tbody>\n",
              "    <tr>\n",
              "      <th>0</th>\n",
              "      <td>F</td>\n",
              "      <td>N</td>\n",
              "      <td>N</td>\n",
              "      <td>0</td>\n",
              "      <td>202500.0</td>\n",
              "      <td>Commercial associate</td>\n",
              "      <td>Higher education</td>\n",
              "      <td>Married</td>\n",
              "      <td>Municipal apartment</td>\n",
              "      <td>39</td>\n",
              "      <td>14</td>\n",
              "      <td>0</td>\n",
              "      <td>0</td>\n",
              "      <td>0</td>\n",
              "      <td>2.0</td>\n",
              "      <td>6</td>\n",
              "    </tr>\n",
              "    <tr>\n",
              "      <th>1</th>\n",
              "      <td>F</td>\n",
              "      <td>N</td>\n",
              "      <td>Y</td>\n",
              "      <td>1</td>\n",
              "      <td>247500.0</td>\n",
              "      <td>Commercial associate</td>\n",
              "      <td>Secondary / secondary special</td>\n",
              "      <td>Civil marriage</td>\n",
              "      <td>House / apartment</td>\n",
              "      <td>32</td>\n",
              "      <td>5</td>\n",
              "      <td>0</td>\n",
              "      <td>0</td>\n",
              "      <td>1</td>\n",
              "      <td>3.0</td>\n",
              "      <td>5</td>\n",
              "    </tr>\n",
              "    <tr>\n",
              "      <th>2</th>\n",
              "      <td>M</td>\n",
              "      <td>Y</td>\n",
              "      <td>Y</td>\n",
              "      <td>0</td>\n",
              "      <td>450000.0</td>\n",
              "      <td>Working</td>\n",
              "      <td>Higher education</td>\n",
              "      <td>Married</td>\n",
              "      <td>House / apartment</td>\n",
              "      <td>54</td>\n",
              "      <td>13</td>\n",
              "      <td>0</td>\n",
              "      <td>1</td>\n",
              "      <td>0</td>\n",
              "      <td>2.0</td>\n",
              "      <td>22</td>\n",
              "    </tr>\n",
              "  </tbody>\n",
              "</table>\n",
              "</div>"
            ],
            "text/plain": [
              "  gender car reality  child_num  ...  phone email family_size begin_month\n",
              "0      F   N       N          0  ...      0     0         2.0           6\n",
              "1      F   N       Y          1  ...      0     1         3.0           5\n",
              "2      M   Y       Y          0  ...      1     0         2.0          22\n",
              "\n",
              "[3 rows x 16 columns]"
            ]
          },
          "metadata": {},
          "execution_count": 180
        }
      ]
    },
    {
      "cell_type": "code",
      "metadata": {
        "colab": {
          "base_uri": "https://localhost:8080/",
          "height": 192
        },
        "id": "nVo0Mr9OHUkS",
        "outputId": "7f1e999a-1fb3-4b9c-cc90-bd4e5e6ae0d4"
      },
      "source": [
        "test.head(3)"
      ],
      "execution_count": 181,
      "outputs": [
        {
          "output_type": "execute_result",
          "data": {
            "text/html": [
              "<div>\n",
              "<style scoped>\n",
              "    .dataframe tbody tr th:only-of-type {\n",
              "        vertical-align: middle;\n",
              "    }\n",
              "\n",
              "    .dataframe tbody tr th {\n",
              "        vertical-align: top;\n",
              "    }\n",
              "\n",
              "    .dataframe thead th {\n",
              "        text-align: right;\n",
              "    }\n",
              "</style>\n",
              "<table border=\"1\" class=\"dataframe\">\n",
              "  <thead>\n",
              "    <tr style=\"text-align: right;\">\n",
              "      <th></th>\n",
              "      <th>gender</th>\n",
              "      <th>car</th>\n",
              "      <th>reality</th>\n",
              "      <th>child_num</th>\n",
              "      <th>income_total</th>\n",
              "      <th>income_type</th>\n",
              "      <th>edu_type</th>\n",
              "      <th>family_type</th>\n",
              "      <th>house_type</th>\n",
              "      <th>DAYS_BIRTH</th>\n",
              "      <th>DAYS_EMPLOYED</th>\n",
              "      <th>work_phone</th>\n",
              "      <th>phone</th>\n",
              "      <th>email</th>\n",
              "      <th>family_size</th>\n",
              "      <th>begin_month</th>\n",
              "    </tr>\n",
              "  </thead>\n",
              "  <tbody>\n",
              "    <tr>\n",
              "      <th>0</th>\n",
              "      <td>M</td>\n",
              "      <td>Y</td>\n",
              "      <td>N</td>\n",
              "      <td>0</td>\n",
              "      <td>112500.0</td>\n",
              "      <td>Pensioner</td>\n",
              "      <td>Secondary / secondary special</td>\n",
              "      <td>Civil marriage</td>\n",
              "      <td>House / apartment</td>\n",
              "      <td>62</td>\n",
              "      <td>1014</td>\n",
              "      <td>0</td>\n",
              "      <td>1</td>\n",
              "      <td>0</td>\n",
              "      <td>2.0</td>\n",
              "      <td>60</td>\n",
              "    </tr>\n",
              "    <tr>\n",
              "      <th>1</th>\n",
              "      <td>F</td>\n",
              "      <td>N</td>\n",
              "      <td>Y</td>\n",
              "      <td>0</td>\n",
              "      <td>135000.0</td>\n",
              "      <td>State servant</td>\n",
              "      <td>Higher education</td>\n",
              "      <td>Married</td>\n",
              "      <td>House / apartment</td>\n",
              "      <td>53</td>\n",
              "      <td>25</td>\n",
              "      <td>0</td>\n",
              "      <td>1</td>\n",
              "      <td>0</td>\n",
              "      <td>2.0</td>\n",
              "      <td>36</td>\n",
              "    </tr>\n",
              "    <tr>\n",
              "      <th>2</th>\n",
              "      <td>F</td>\n",
              "      <td>N</td>\n",
              "      <td>Y</td>\n",
              "      <td>0</td>\n",
              "      <td>69372.0</td>\n",
              "      <td>Working</td>\n",
              "      <td>Secondary / secondary special</td>\n",
              "      <td>Married</td>\n",
              "      <td>House / apartment</td>\n",
              "      <td>45</td>\n",
              "      <td>1</td>\n",
              "      <td>1</td>\n",
              "      <td>1</td>\n",
              "      <td>0</td>\n",
              "      <td>2.0</td>\n",
              "      <td>40</td>\n",
              "    </tr>\n",
              "  </tbody>\n",
              "</table>\n",
              "</div>"
            ],
            "text/plain": [
              "  gender car reality  child_num  ...  phone email family_size begin_month\n",
              "0      M   Y       N          0  ...      1     0         2.0          60\n",
              "1      F   N       Y          0  ...      1     0         2.0          36\n",
              "2      F   N       Y          0  ...      1     0         2.0          40\n",
              "\n",
              "[3 rows x 16 columns]"
            ]
          },
          "metadata": {},
          "execution_count": 181
        }
      ]
    },
    {
      "cell_type": "code",
      "metadata": {
        "id": "BUUm3esnHjik"
      },
      "source": [
        "from sklearn.preprocessing import LabelEncoder\n",
        "str2int = 'gender car reality income_type edu_type family_type house_type'\n",
        "for col in str2int.split():\n",
        "    le = LabelEncoder()\n",
        "    X[col] = le.fit_transform(X[col])\n",
        "    test[col] = le.transform(test[col])"
      ],
      "execution_count": 182,
      "outputs": []
    },
    {
      "cell_type": "code",
      "metadata": {
        "id": "qOBbPNe5IcZE"
      },
      "source": [
        "# from sklearn.preprocessing import RobustScaler\n",
        "# ro = RobustScaler()\n",
        "# X[['income_total', 'DAYS_BIRTH', 'DAYS_EMPLOYED', 'begin_month']] = ro.fit_transform(X[['income_total', 'DAYS_BIRTH', 'DAYS_EMPLOYED', 'begin_month']])\n",
        "# test[['income_total', 'DAYS_BIRTH', 'DAYS_EMPLOYED', 'begin_month']] = ro.transform(test[['income_total', 'DAYS_BIRTH', 'DAYS_EMPLOYED', 'begin_month']])"
      ],
      "execution_count": 161,
      "outputs": []
    },
    {
      "cell_type": "code",
      "metadata": {
        "id": "LvDWg6fjX2OA"
      },
      "source": [
        "X = X.drop(['income_total'], axis=1)\n",
        "test = test.drop(['income_total'], axis=1)"
      ],
      "execution_count": 187,
      "outputs": []
    },
    {
      "cell_type": "code",
      "metadata": {
        "colab": {
          "base_uri": "https://localhost:8080/",
          "height": 142
        },
        "id": "fvvRMeOsTkbd",
        "outputId": "b8dcdde2-62b2-4d7b-8ccd-f9447c696f51"
      },
      "source": [
        "X.head(3)"
      ],
      "execution_count": 188,
      "outputs": [
        {
          "output_type": "execute_result",
          "data": {
            "text/html": [
              "<div>\n",
              "<style scoped>\n",
              "    .dataframe tbody tr th:only-of-type {\n",
              "        vertical-align: middle;\n",
              "    }\n",
              "\n",
              "    .dataframe tbody tr th {\n",
              "        vertical-align: top;\n",
              "    }\n",
              "\n",
              "    .dataframe thead th {\n",
              "        text-align: right;\n",
              "    }\n",
              "</style>\n",
              "<table border=\"1\" class=\"dataframe\">\n",
              "  <thead>\n",
              "    <tr style=\"text-align: right;\">\n",
              "      <th></th>\n",
              "      <th>gender</th>\n",
              "      <th>car</th>\n",
              "      <th>reality</th>\n",
              "      <th>child_num</th>\n",
              "      <th>income_type</th>\n",
              "      <th>edu_type</th>\n",
              "      <th>family_type</th>\n",
              "      <th>house_type</th>\n",
              "      <th>DAYS_BIRTH</th>\n",
              "      <th>DAYS_EMPLOYED</th>\n",
              "      <th>work_phone</th>\n",
              "      <th>phone</th>\n",
              "      <th>email</th>\n",
              "      <th>family_size</th>\n",
              "      <th>begin_month</th>\n",
              "    </tr>\n",
              "  </thead>\n",
              "  <tbody>\n",
              "    <tr>\n",
              "      <th>0</th>\n",
              "      <td>0</td>\n",
              "      <td>0</td>\n",
              "      <td>0</td>\n",
              "      <td>0</td>\n",
              "      <td>0</td>\n",
              "      <td>1</td>\n",
              "      <td>1</td>\n",
              "      <td>2</td>\n",
              "      <td>39</td>\n",
              "      <td>14</td>\n",
              "      <td>0</td>\n",
              "      <td>0</td>\n",
              "      <td>0</td>\n",
              "      <td>2.0</td>\n",
              "      <td>6</td>\n",
              "    </tr>\n",
              "    <tr>\n",
              "      <th>1</th>\n",
              "      <td>0</td>\n",
              "      <td>0</td>\n",
              "      <td>1</td>\n",
              "      <td>1</td>\n",
              "      <td>0</td>\n",
              "      <td>4</td>\n",
              "      <td>0</td>\n",
              "      <td>1</td>\n",
              "      <td>32</td>\n",
              "      <td>5</td>\n",
              "      <td>0</td>\n",
              "      <td>0</td>\n",
              "      <td>1</td>\n",
              "      <td>3.0</td>\n",
              "      <td>5</td>\n",
              "    </tr>\n",
              "    <tr>\n",
              "      <th>2</th>\n",
              "      <td>1</td>\n",
              "      <td>1</td>\n",
              "      <td>1</td>\n",
              "      <td>0</td>\n",
              "      <td>4</td>\n",
              "      <td>1</td>\n",
              "      <td>1</td>\n",
              "      <td>1</td>\n",
              "      <td>54</td>\n",
              "      <td>13</td>\n",
              "      <td>0</td>\n",
              "      <td>1</td>\n",
              "      <td>0</td>\n",
              "      <td>2.0</td>\n",
              "      <td>22</td>\n",
              "    </tr>\n",
              "  </tbody>\n",
              "</table>\n",
              "</div>"
            ],
            "text/plain": [
              "   gender  car  reality  child_num  ...  phone  email  family_size  begin_month\n",
              "0       0    0        0          0  ...      0      0          2.0            6\n",
              "1       0    0        1          1  ...      0      1          3.0            5\n",
              "2       1    1        1          0  ...      1      0          2.0           22\n",
              "\n",
              "[3 rows x 15 columns]"
            ]
          },
          "metadata": {},
          "execution_count": 188
        }
      ]
    },
    {
      "cell_type": "markdown",
      "metadata": {
        "id": "GTOol_QuK7Ij"
      },
      "source": [
        "## 모델 구축"
      ]
    },
    {
      "cell_type": "code",
      "metadata": {
        "id": "BjQ6a_eWSyzN"
      },
      "source": [
        "from sklearn.model_selection import train_test_split\n",
        "\n",
        "X_train, X_val, y_train, y_val = train_test_split(X, y, \n",
        "                                                    stratify=y, test_size=0.25,\n",
        "                                                    random_state = 10086)"
      ],
      "execution_count": 189,
      "outputs": []
    },
    {
      "cell_type": "code",
      "metadata": {
        "colab": {
          "base_uri": "https://localhost:8080/"
        },
        "id": "IWNTtrEdKS4n",
        "outputId": "8aa4a3a1-ed4e-4b78-dd1c-c156c342bfb3"
      },
      "source": [
        "from lightgbm import LGBMClassifier\n",
        "from sklearn.model_selection import GridSearchCV\n",
        "lgbm = LGBMClassifier(n_estimators=400)\n",
        "parameters = {'learning_rate':[0.05,0.1,0.2,0.3], 'max_depth': [3, 7, 10, 15]}\n",
        "clf = GridSearchCV(lgbm, parameters, n_jobs=-1)\n",
        "clf.fit(X_train,y_train)"
      ],
      "execution_count": 190,
      "outputs": [
        {
          "output_type": "execute_result",
          "data": {
            "text/plain": [
              "GridSearchCV(cv=None, error_score=nan,\n",
              "             estimator=LGBMClassifier(boosting_type='gbdt', class_weight=None,\n",
              "                                      colsample_bytree=1.0,\n",
              "                                      importance_type='split',\n",
              "                                      learning_rate=0.1, max_depth=-1,\n",
              "                                      min_child_samples=20,\n",
              "                                      min_child_weight=0.001,\n",
              "                                      min_split_gain=0.0, n_estimators=400,\n",
              "                                      n_jobs=-1, num_leaves=31, objective=None,\n",
              "                                      random_state=None, reg_alpha=0.0,\n",
              "                                      reg_lambda=0.0, silent=True,\n",
              "                                      subsample=1.0, subsample_for_bin=200000,\n",
              "                                      subsample_freq=0),\n",
              "             iid='deprecated', n_jobs=-1,\n",
              "             param_grid={'learning_rate': [0.05, 0.1, 0.2, 0.3],\n",
              "                         'max_depth': [3, 7, 10, 15]},\n",
              "             pre_dispatch='2*n_jobs', refit=True, return_train_score=False,\n",
              "             scoring=None, verbose=0)"
            ]
          },
          "metadata": {},
          "execution_count": 190
        }
      ]
    },
    {
      "cell_type": "code",
      "metadata": {
        "colab": {
          "base_uri": "https://localhost:8080/"
        },
        "id": "GosTzzRqUGUw",
        "outputId": "339b0a61-ab3f-4190-d436-48311398c4c9"
      },
      "source": [
        "clf.best_params_"
      ],
      "execution_count": 191,
      "outputs": [
        {
          "output_type": "execute_result",
          "data": {
            "text/plain": [
              "{'learning_rate': 0.05, 'max_depth': 15}"
            ]
          },
          "metadata": {},
          "execution_count": 191
        }
      ]
    },
    {
      "cell_type": "code",
      "metadata": {
        "colab": {
          "base_uri": "https://localhost:8080/"
        },
        "id": "3XZ_xklvLWWG",
        "outputId": "6c398020-60b5-4157-b5ad-9ab2d7fbf73e"
      },
      "source": [
        "from sklearn.metrics import log_loss\n",
        "from tensorflow.keras.utils import to_categorical\n",
        "\n",
        "y_pred = clf.predict_proba(X_val)\n",
        "print(f\"log_loss: {log_loss(to_categorical(y_val), y_pred)}\")"
      ],
      "execution_count": 192,
      "outputs": [
        {
          "output_type": "stream",
          "name": "stdout",
          "text": [
            "log_loss: 0.7753261407861087\n"
          ]
        }
      ]
    },
    {
      "cell_type": "code",
      "metadata": {
        "id": "toxcrub3Nojq"
      },
      "source": [
        "pred = clf.predict_proba(test)\n",
        "submission = pd.read_csv('/content/sample_submission.csv')\n",
        "for idx, i in enumerate(pred):\n",
        "    submission.loc[idx,['0']] = i[0]\n",
        "    submission.loc[idx,['1']] = i[1]\n",
        "    submission.loc[idx,['2']] = i[2]"
      ],
      "execution_count": 193,
      "outputs": []
    },
    {
      "cell_type": "code",
      "metadata": {
        "id": "qltXwFzBOuCl"
      },
      "source": [
        "submission.to_csv('submit.csv', index=False)"
      ],
      "execution_count": 176,
      "outputs": []
    },
    {
      "cell_type": "code",
      "metadata": {
        "colab": {
          "base_uri": "https://localhost:8080/",
          "height": 417
        },
        "id": "JmVXvcghPGBU",
        "outputId": "eca4d1f5-d181-412c-a858-db947e10b158"
      },
      "source": [
        "submission"
      ],
      "execution_count": 177,
      "outputs": [
        {
          "output_type": "execute_result",
          "data": {
            "text/html": [
              "<div>\n",
              "<style scoped>\n",
              "    .dataframe tbody tr th:only-of-type {\n",
              "        vertical-align: middle;\n",
              "    }\n",
              "\n",
              "    .dataframe tbody tr th {\n",
              "        vertical-align: top;\n",
              "    }\n",
              "\n",
              "    .dataframe thead th {\n",
              "        text-align: right;\n",
              "    }\n",
              "</style>\n",
              "<table border=\"1\" class=\"dataframe\">\n",
              "  <thead>\n",
              "    <tr style=\"text-align: right;\">\n",
              "      <th></th>\n",
              "      <th>index</th>\n",
              "      <th>0</th>\n",
              "      <th>1</th>\n",
              "      <th>2</th>\n",
              "    </tr>\n",
              "  </thead>\n",
              "  <tbody>\n",
              "    <tr>\n",
              "      <th>0</th>\n",
              "      <td>26457</td>\n",
              "      <td>0.068021</td>\n",
              "      <td>0.139193</td>\n",
              "      <td>0.792786</td>\n",
              "    </tr>\n",
              "    <tr>\n",
              "      <th>1</th>\n",
              "      <td>26458</td>\n",
              "      <td>0.129996</td>\n",
              "      <td>0.137309</td>\n",
              "      <td>0.732695</td>\n",
              "    </tr>\n",
              "    <tr>\n",
              "      <th>2</th>\n",
              "      <td>26459</td>\n",
              "      <td>0.077177</td>\n",
              "      <td>0.117531</td>\n",
              "      <td>0.805291</td>\n",
              "    </tr>\n",
              "    <tr>\n",
              "      <th>3</th>\n",
              "      <td>26460</td>\n",
              "      <td>0.068679</td>\n",
              "      <td>0.161917</td>\n",
              "      <td>0.769404</td>\n",
              "    </tr>\n",
              "    <tr>\n",
              "      <th>4</th>\n",
              "      <td>26461</td>\n",
              "      <td>0.093217</td>\n",
              "      <td>0.174567</td>\n",
              "      <td>0.732216</td>\n",
              "    </tr>\n",
              "    <tr>\n",
              "      <th>...</th>\n",
              "      <td>...</td>\n",
              "      <td>...</td>\n",
              "      <td>...</td>\n",
              "      <td>...</td>\n",
              "    </tr>\n",
              "    <tr>\n",
              "      <th>9995</th>\n",
              "      <td>36452</td>\n",
              "      <td>0.117115</td>\n",
              "      <td>0.131130</td>\n",
              "      <td>0.751755</td>\n",
              "    </tr>\n",
              "    <tr>\n",
              "      <th>9996</th>\n",
              "      <td>36453</td>\n",
              "      <td>0.141618</td>\n",
              "      <td>0.285366</td>\n",
              "      <td>0.573016</td>\n",
              "    </tr>\n",
              "    <tr>\n",
              "      <th>9997</th>\n",
              "      <td>36454</td>\n",
              "      <td>0.136289</td>\n",
              "      <td>0.161366</td>\n",
              "      <td>0.702345</td>\n",
              "    </tr>\n",
              "    <tr>\n",
              "      <th>9998</th>\n",
              "      <td>36455</td>\n",
              "      <td>0.100660</td>\n",
              "      <td>0.262230</td>\n",
              "      <td>0.637110</td>\n",
              "    </tr>\n",
              "    <tr>\n",
              "      <th>9999</th>\n",
              "      <td>36456</td>\n",
              "      <td>0.053406</td>\n",
              "      <td>0.181145</td>\n",
              "      <td>0.765449</td>\n",
              "    </tr>\n",
              "  </tbody>\n",
              "</table>\n",
              "<p>10000 rows × 4 columns</p>\n",
              "</div>"
            ],
            "text/plain": [
              "      index         0         1         2\n",
              "0     26457  0.068021  0.139193  0.792786\n",
              "1     26458  0.129996  0.137309  0.732695\n",
              "2     26459  0.077177  0.117531  0.805291\n",
              "3     26460  0.068679  0.161917  0.769404\n",
              "4     26461  0.093217  0.174567  0.732216\n",
              "...     ...       ...       ...       ...\n",
              "9995  36452  0.117115  0.131130  0.751755\n",
              "9996  36453  0.141618  0.285366  0.573016\n",
              "9997  36454  0.136289  0.161366  0.702345\n",
              "9998  36455  0.100660  0.262230  0.637110\n",
              "9999  36456  0.053406  0.181145  0.765449\n",
              "\n",
              "[10000 rows x 4 columns]"
            ]
          },
          "metadata": {},
          "execution_count": 177
        }
      ]
    }
  ]
}